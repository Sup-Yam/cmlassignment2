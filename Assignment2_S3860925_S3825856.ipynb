{
 "cells": [
  {
   "cell_type": "markdown",
   "id": "77d243ee",
   "metadata": {},
   "source": [
    "# Assignment 2 - Computational Machine Learning\n",
    "<b>Group Details</b> - <br>\n",
    "Kunjar Supriya Rao - S3860925 <br>\n",
    "Yeshaswi Aralaguppe Muralidhar - S3825856 <br>"
   ]
  },
  {
   "cell_type": "markdown",
   "id": "30dd0e58",
   "metadata": {},
   "source": [
    "## Research Goal\n",
    "Image classification of European road traffic signs. <br>\n",
    "The aim is to build and train a machine learning model to classify 28x28 gray-scale images according to - <br>\n",
    "1) <b>Sign-shape </b> - diamond, hex, round, square, triangle<br>\n",
    "2) <b>Sign-type </b> - stop, parking, giveway etc."
   ]
  },
  {
   "cell_type": "markdown",
   "id": "2d1b1e02",
   "metadata": {},
   "source": [
    "## Import the necessary libraries"
   ]
  },
  {
   "cell_type": "code",
   "execution_count": 1,
   "id": "0d139d91",
   "metadata": {},
   "outputs": [
    {
     "name": "stderr",
     "output_type": "stream",
     "text": [
      "Using TensorFlow backend.\n"
     ]
    }
   ],
   "source": [
    "import tensorflow as tf\n",
    "AUTOTUNE = tf.data.experimental.AUTOTUNE\n",
    "\n",
    "import IPython.display as display\n",
    "from PIL import Image\n",
    "import numpy as np\n",
    "import matplotlib.pyplot as plt\n",
    "import os\n",
    "import csv\n",
    "import pandas as pd\n",
    "import glob\n",
    "import keras\n",
    "import warnings #hide deprecation warnings\n",
    "from sklearn.model_selection import train_test_split #to split data into train and validation data\n",
    "from sklearn.linear_model import LogisticRegression\n",
    "from sklearn.metrics import f1_score\n",
    "from sklearn.metrics import confusion_matrix\n",
    "from sklearn.metrics import classification_report"
   ]
  },
  {
   "cell_type": "markdown",
   "id": "c6375c27",
   "metadata": {},
   "source": [
    "## Read the data"
   ]
  },
  {
   "cell_type": "markdown",
   "id": "cb5affa9",
   "metadata": {},
   "source": [
    "Since the task involves labelling images, its a classification problem. <br>\n",
    "To read the given training data, we explore the folder structure and retrieve the labels and image names. Further, we convert all the images into grey scale and reshape it (28x28 size images). The pixel values are written out to a csv file. The image path, sign shape, sign type and flattened pixel array are read in as a pandas dataframe."
   ]
  },
  {
   "cell_type": "code",
   "execution_count": 2,
   "id": "20d42a63",
   "metadata": {},
   "outputs": [],
   "source": [
    "# Reference - https://stackoverflow.com/questions/49070242/converting-images-to-csv-file-in-python\n",
    "\n",
    "warnings.filterwarnings('ignore') #ignore deprecation warnings\n",
    "\n",
    "image_list = []\n",
    "for filepath in glob.glob('./trafficsigns_dataset/*/*/*.png', recursive=True): #Loop through all folders\n",
    "    filename = filepath.split(\"/\")[-1]\n",
    "    sign_type = filepath.split(\"/\")[-2]\n",
    "    sign_shape = filepath.split(\"/\")[-3]\n",
    "\n",
    "    img_file = Image.open(filepath)\n",
    "\n",
    "    # get original image parameters\n",
    "    width, height = img_file.size\n",
    "    format = img_file.format\n",
    "    mode = img_file.mode\n",
    "\n",
    "    # Make image Greyscale\n",
    "    img_grey = img_file.convert('L')\n",
    "\n",
    "    # Save Greyscale values\n",
    "    value = np.asarray(img_grey.getdata(), dtype=np.int).reshape((img_grey.size[1], img_grey.size[0]))\n",
    "    value = value.flatten()\n",
    "    with open(\"img_pixels.csv\", 'a') as f:\n",
    "        writer = csv.writer(f)\n",
    "        writer.writerow(value)\n",
    "    \n",
    "    image_list.append((filepath, sign_shape, sign_type, value))\n",
    "\n",
    "# Create a data frame\n",
    "data = pd.DataFrame(data=image_list, columns=['image_path', 'sign_shape', 'sign_type', 'flattened array'])"
   ]
  },
  {
   "cell_type": "markdown",
   "id": "226d2936",
   "metadata": {},
   "source": [
    "Lets take a look at the dataframe"
   ]
  },
  {
   "cell_type": "code",
   "execution_count": 3,
   "id": "b5915d95",
   "metadata": {
    "scrolled": true
   },
   "outputs": [
    {
     "data": {
      "text/html": [
       "<div>\n",
       "<style scoped>\n",
       "    .dataframe tbody tr th:only-of-type {\n",
       "        vertical-align: middle;\n",
       "    }\n",
       "\n",
       "    .dataframe tbody tr th {\n",
       "        vertical-align: top;\n",
       "    }\n",
       "\n",
       "    .dataframe thead th {\n",
       "        text-align: right;\n",
       "    }\n",
       "</style>\n",
       "<table border=\"1\" class=\"dataframe\">\n",
       "  <thead>\n",
       "    <tr style=\"text-align: right;\">\n",
       "      <th></th>\n",
       "      <th>image_path</th>\n",
       "      <th>sign_shape</th>\n",
       "      <th>sign_type</th>\n",
       "      <th>flattened array</th>\n",
       "    </tr>\n",
       "  </thead>\n",
       "  <tbody>\n",
       "    <tr>\n",
       "      <th>3181</th>\n",
       "      <td>./trafficsigns_dataset/round/noparking/01025_0...</td>\n",
       "      <td>round</td>\n",
       "      <td>noparking</td>\n",
       "      <td>[48, 52, 44, 59, 58, 53, 77, 68, 63, 64, 78, 1...</td>\n",
       "    </tr>\n",
       "    <tr>\n",
       "      <th>3087</th>\n",
       "      <td>./trafficsigns_dataset/round/noparking/01729_0...</td>\n",
       "      <td>round</td>\n",
       "      <td>noparking</td>\n",
       "      <td>[78, 63, 54, 48, 41, 38, 41, 48, 50, 50, 56, 6...</td>\n",
       "    </tr>\n",
       "    <tr>\n",
       "      <th>1996</th>\n",
       "      <td>./trafficsigns_dataset/round/traveldirection/0...</td>\n",
       "      <td>round</td>\n",
       "      <td>traveldirection</td>\n",
       "      <td>[124, 138, 138, 167, 175, 175, 164, 122, 148, ...</td>\n",
       "    </tr>\n",
       "    <tr>\n",
       "      <th>1818</th>\n",
       "      <td>./trafficsigns_dataset/triangle/warning/00769_...</td>\n",
       "      <td>triangle</td>\n",
       "      <td>warning</td>\n",
       "      <td>[136, 43, 66, 75, 80, 77, 94, 208, 225, 239, 2...</td>\n",
       "    </tr>\n",
       "    <tr>\n",
       "      <th>824</th>\n",
       "      <td>./trafficsigns_dataset/square/continue/01280_0...</td>\n",
       "      <td>square</td>\n",
       "      <td>continue</td>\n",
       "      <td>[237, 254, 254, 108, 105, 255, 255, 255, 254, ...</td>\n",
       "    </tr>\n",
       "  </tbody>\n",
       "</table>\n",
       "</div>"
      ],
      "text/plain": [
       "                                             image_path sign_shape  \\\n",
       "3181  ./trafficsigns_dataset/round/noparking/01025_0...      round   \n",
       "3087  ./trafficsigns_dataset/round/noparking/01729_0...      round   \n",
       "1996  ./trafficsigns_dataset/round/traveldirection/0...      round   \n",
       "1818  ./trafficsigns_dataset/triangle/warning/00769_...   triangle   \n",
       "824   ./trafficsigns_dataset/square/continue/01280_0...     square   \n",
       "\n",
       "            sign_type                                    flattened array  \n",
       "3181        noparking  [48, 52, 44, 59, 58, 53, 77, 68, 63, 64, 78, 1...  \n",
       "3087        noparking  [78, 63, 54, 48, 41, 38, 41, 48, 50, 50, 56, 6...  \n",
       "1996  traveldirection  [124, 138, 138, 167, 175, 175, 164, 122, 148, ...  \n",
       "1818          warning  [136, 43, 66, 75, 80, 77, 94, 208, 225, 239, 2...  \n",
       "824          continue  [237, 254, 254, 108, 105, 255, 255, 255, 254, ...  "
      ]
     },
     "execution_count": 3,
     "metadata": {},
     "output_type": "execute_result"
    }
   ],
   "source": [
    "data.sample(5) #Show random 5 observations"
   ]
  },
  {
   "cell_type": "code",
   "execution_count": 4,
   "id": "e76ee9df",
   "metadata": {},
   "outputs": [
    {
     "data": {
      "text/plain": [
       "(3699, 4)"
      ]
     },
     "execution_count": 4,
     "metadata": {},
     "output_type": "execute_result"
    }
   ],
   "source": [
    "data.shape"
   ]
  },
  {
   "cell_type": "code",
   "execution_count": 5,
   "id": "8e7aee09",
   "metadata": {},
   "outputs": [
    {
     "name": "stdout",
     "output_type": "stream",
     "text": [
      "(784,)\n",
      "(784,)\n"
     ]
    }
   ],
   "source": [
    "print(data['flattened array'][0].shape)\n",
    "print(data['flattened array'][345].shape)"
   ]
  },
  {
   "cell_type": "markdown",
   "id": "51f94702",
   "metadata": {},
   "source": [
    "Check for any null values"
   ]
  },
  {
   "cell_type": "code",
   "execution_count": 6,
   "id": "bc83e373",
   "metadata": {},
   "outputs": [
    {
     "name": "stdout",
     "output_type": "stream",
     "text": [
      "round       1760\n",
      "triangle     926\n",
      "square       688\n",
      "diamond      282\n",
      "hex           43\n",
      "Name: sign_shape, dtype: int64\n",
      "5\n"
     ]
    }
   ],
   "source": [
    "print(data['sign_shape'].value_counts())\n",
    "print(data['sign_shape'].value_counts().count())"
   ]
  },
  {
   "cell_type": "code",
   "execution_count": 7,
   "id": "1c674d4c",
   "metadata": {},
   "outputs": [
    {
     "name": "stdout",
     "output_type": "stream",
     "text": [
      "warning             695\n",
      "noentry             375\n",
      "speed               316\n",
      "bicycle             285\n",
      "rightofway          282\n",
      "parking             276\n",
      "noparking           242\n",
      "giveway             231\n",
      "continue            199\n",
      "trafficdirective    195\n",
      "limitedtraffic      125\n",
      "traveldirection     124\n",
      "laneend             118\n",
      "roundabout           98\n",
      "crossing             95\n",
      "stop                 43\n",
      "Name: sign_type, dtype: int64\n",
      "16\n"
     ]
    }
   ],
   "source": [
    "print(data['sign_type'].value_counts())\n",
    "print(data['sign_type'].value_counts().count())"
   ]
  },
  {
   "cell_type": "code",
   "execution_count": 8,
   "id": "e7e89999",
   "metadata": {},
   "outputs": [
    {
     "data": {
      "text/plain": [
       "image_path         0\n",
       "sign_shape         0\n",
       "sign_type          0\n",
       "flattened array    0\n",
       "dtype: int64"
      ]
     },
     "execution_count": 8,
     "metadata": {},
     "output_type": "execute_result"
    }
   ],
   "source": [
    "pd.isna(data).sum()"
   ]
  },
  {
   "cell_type": "markdown",
   "id": "1f118d84",
   "metadata": {},
   "source": [
    "<b>Observations:</b> <br>\n",
    "1) We have 3699 images in our data set <br>\n",
    "2) All images are scaled to 28x28 size images, and flattened array is a row vector of length 784 (28*28)<br>\n",
    "3) We have 5 sign shapes - round, triangle, square, diamond and hex <br>\n",
    "4) There are 16 sign types <br>\n",
    "5) No null values <br>"
   ]
  },
  {
   "cell_type": "markdown",
   "id": "a1ada23a",
   "metadata": {},
   "source": [
    "## Exploratory Data Analysis"
   ]
  },
  {
   "cell_type": "markdown",
   "id": "9ab0ef64",
   "metadata": {},
   "source": [
    "We plot a histogram to check the distribution of the data and check the frequencies."
   ]
  },
  {
   "cell_type": "code",
   "execution_count": 9,
   "id": "a88e39a5",
   "metadata": {},
   "outputs": [
    {
     "name": "stdout",
     "output_type": "stream",
     "text": [
      "<class 'pandas.core.frame.DataFrame'>\n",
      "RangeIndex: 3699 entries, 0 to 3698\n",
      "Data columns (total 4 columns):\n",
      " #   Column           Non-Null Count  Dtype \n",
      "---  ------           --------------  ----- \n",
      " 0   image_path       3699 non-null   object\n",
      " 1   sign_shape       3699 non-null   object\n",
      " 2   sign_type        3699 non-null   object\n",
      " 3   flattened array  3699 non-null   object\n",
      "dtypes: object(4)\n",
      "memory usage: 115.7+ KB\n"
     ]
    }
   ],
   "source": [
    "data.info()"
   ]
  },
  {
   "cell_type": "code",
   "execution_count": 10,
   "id": "2620c11c",
   "metadata": {},
   "outputs": [
    {
     "data": {
      "text/plain": [
       "<AxesSubplot:>"
      ]
     },
     "execution_count": 10,
     "metadata": {},
     "output_type": "execute_result"
    },
    {
     "data": {
      "image/png": "[encoded data removed]",
      "text/plain": [
       "<Figure size 432x288 with 1 Axes>"
      ]
     },
     "metadata": {
      "needs_background": "light"
     },
     "output_type": "display_data"
    }
   ],
   "source": [
    "data.sign_shape.hist()"
   ]
  },
  {
   "cell_type": "code",
   "execution_count": 11,
   "id": "6c4aa1fe",
   "metadata": {},
   "outputs": [
    {
     "data": {
      "image/png": "[encoded data removed]",
      "text/plain": [
       "<Figure size 432x288 with 1 Axes>"
      ]
     },
     "metadata": {
      "needs_background": "light"
     },
     "output_type": "display_data"
    }
   ],
   "source": [
    "data.sign_type.hist(bins=30)\n",
    "plt.xticks(rotation='vertical')\n",
    "plt.show()"
   ]
  },
  {
   "cell_type": "markdown",
   "id": "3519802a",
   "metadata": {},
   "source": [
    "Lets randomnly, plot 4 images"
   ]
  },
  {
   "cell_type": "code",
   "execution_count": 12,
   "id": "616c5161",
   "metadata": {},
   "outputs": [
    {
     "data": {
      "image/png": "[encoded data removed]",
      "text/plain": [
       "<Figure size 1152x288 with 4 Axes>"
      ]
     },
     "metadata": {
      "needs_background": "light"
     },
     "output_type": "display_data"
    }
   ],
   "source": [
    "r_inx = np.random.choice(3699, 4)\n",
    "rand_data = data.loc[r_inx,'image_path']\n",
    "\n",
    "plt.figure(figsize=(16,4))\n",
    "for i, image_path in enumerate(rand_data):\n",
    "    im = np.asarray(Image.open(image_path))\n",
    "    plt.subplot(1,4,i+1)\n",
    "    plt.imshow(im,cmap='gray')\n",
    "    plt.axis('off')\n",
    "    \n",
    "plt.show()"
   ]
  },
  {
   "cell_type": "markdown",
   "id": "bd1f2002",
   "metadata": {},
   "source": [
    "<b>Observations:</b> <br>\n",
    "1) The dataset is highly imbalanced as observed from the histogram plots <br>\n",
    "2) The training samples for categories - hex, stop, laneend, crossing, traveldirection, limitedtraffic and roundabout are relatively very less. <br>\n",
    "3) Successfully retrieved grey scale images."
   ]
  },
  {
   "cell_type": "markdown",
   "id": "5f5c1dbc",
   "metadata": {},
   "source": [
    "## Image encoding\n",
    "For later processing we map the string labels to numeric values."
   ]
  },
  {
   "cell_type": "code",
   "execution_count": 13,
   "id": "5aaa028a",
   "metadata": {},
   "outputs": [],
   "source": [
    "d = {'rightofway':0, 'stop':1, 'bicycle':2, 'limitedtraffic':3, 'noentry':4, 'noparking':5, 'roundabout':6, 'speed':7, 'trafficdirective':8, 'traveldirection':9,  'continue':10, 'crossing':11, 'laneend':12, 'parking':13, 'giveway':14, 'warning':15}\n",
    "data['sign_type_num'] = data['sign_type'].map(d, na_action='ignore')"
   ]
  },
  {
   "cell_type": "code",
   "execution_count": 14,
   "id": "7b7b6242",
   "metadata": {},
   "outputs": [],
   "source": [
    "d = {'diamond':0, 'hex':1, 'square':2, 'triangle':3, 'round':4}\n",
    "data['sign_shape_num'] = data['sign_shape'].map(d, na_action='ignore')"
   ]
  },
  {
   "cell_type": "code",
   "execution_count": 15,
   "id": "0b19ebd0",
   "metadata": {},
   "outputs": [
    {
     "data": {
      "text/plain": [
       "image_path         object\n",
       "sign_shape         object\n",
       "sign_type          object\n",
       "flattened array    object\n",
       "sign_type_num       int64\n",
       "sign_shape_num      int64\n",
       "dtype: object"
      ]
     },
     "execution_count": 15,
     "metadata": {},
     "output_type": "execute_result"
    }
   ],
   "source": [
    "data.dtypes"
   ]
  },
  {
   "cell_type": "markdown",
   "id": "cff922d9",
   "metadata": {},
   "source": [
    "## Model development \n",
    "The given problem falls under the supervised learning technique, and is an image classification problem.\n",
    "Next, we explore the evaluation/performance metrics and build the model.\n",
    "\n",
    "### Evaluation metrics\n",
    "\n",
    "In our case, model accuracy might not be a good evaluation metric as the dataset is imbalanced and might lead to poor performance through wrong inferences.\n",
    "\n",
    "Hence, we choose f1 score, which is the harmonic mean of recall and precision, to get an idea of how well our model performs.\n",
    "Further, for this task, we will use **macro f1_score** as the performance measure since\n",
    " - its an imbalanced dataset and the target class is heavily biased to few classes.\n",
    " - we would like to give equal importance to all the classes and see similar performance.\n"
   ]
  },
  {
   "cell_type": "code",
   "execution_count": 16,
   "id": "7c405b1e",
   "metadata": {},
   "outputs": [],
   "source": [
    "x=pd.read_csv(\"img_pixels.csv\", header=None)"
   ]
  },
  {
   "cell_type": "code",
   "execution_count": 17,
   "id": "8c3f2bf9",
   "metadata": {},
   "outputs": [],
   "source": [
    "y=data['sign_shape_num']"
   ]
  },
  {
   "cell_type": "code",
   "execution_count": 18,
   "id": "0fc32116",
   "metadata": {},
   "outputs": [
    {
     "data": {
      "text/plain": [
       "array([[ 65,   0,   0,   2,   3],\n",
       "       [  0,   9,   1,   1,   0],\n",
       "       [  0,   0, 161,   4,   7],\n",
       "       [  4,   0,   7, 211,  10],\n",
       "       [  4,   0,   3,   8, 425]])"
      ]
     },
     "execution_count": 18,
     "metadata": {},
     "output_type": "execute_result"
    }
   ],
   "source": [
    "x_train, x_val, y_train, y_val = train_test_split(x,y,random_state=0, stratify=data['sign_shape_num'])\n",
    "clf=LogisticRegression(class_weight='balanced')\n",
    "fit=clf.fit(x_train,y_train)\n",
    "pred=fit.predict(x_val)\n",
    "confusion_matrix(y_val, pred)"
   ]
  },
  {
   "cell_type": "code",
   "execution_count": 19,
   "id": "c83d2dd4",
   "metadata": {
    "scrolled": true
   },
   "outputs": [
    {
     "name": "stdout",
     "output_type": "stream",
     "text": [
      "              precision    recall  f1-score   support\n",
      "\n",
      "           0       0.89      0.93      0.91        70\n",
      "           1       1.00      0.82      0.90        11\n",
      "           2       0.94      0.94      0.94       172\n",
      "           3       0.93      0.91      0.92       232\n",
      "           4       0.96      0.97      0.96       440\n",
      "\n",
      "    accuracy                           0.94       925\n",
      "   macro avg       0.94      0.91      0.93       925\n",
      "weighted avg       0.94      0.94      0.94       925\n",
      "\n"
     ]
    }
   ],
   "source": [
    "print(classification_report(y_val, pred))"
   ]
  },
  {
   "cell_type": "code",
   "execution_count": 20,
   "id": "e004b0ab",
   "metadata": {},
   "outputs": [],
   "source": [
    "def get_f1_scores(clf, train_X, train_y, val_X, val_y):\n",
    "    train_pred = clf.predict(train_X)\n",
    "    val_pred = clf.predict(val_X)\n",
    "\n",
    "    train_f1 = f1_score(train_y, train_pred, average='macro')\n",
    "    val_f1 = f1_score(val_y, val_pred, average='macro')\n",
    "\n",
    "    return train_f1, val_f1"
   ]
  },
  {
   "cell_type": "code",
   "execution_count": 21,
   "id": "bf0d440f",
   "metadata": {},
   "outputs": [
    {
     "name": "stdout",
     "output_type": "stream",
     "text": [
      "Training F1 score -  1.0\n",
      "Validation F1 score -  0.9253973556065219\n"
     ]
    }
   ],
   "source": [
    "train_f1, val_f1 = get_f1_scores(clf, x_train, y_train, x_val, y_val)\n",
    "print(\"Training F1 score - \",train_f1)\n",
    "print(\"Validation F1 score - \",val_f1)"
   ]
  },
  {
   "cell_type": "markdown",
   "id": "c585f157",
   "metadata": {},
   "source": [
    "Next we perform the classification for sign_type"
   ]
  },
  {
   "cell_type": "code",
   "execution_count": 22,
   "id": "c6dab881",
   "metadata": {},
   "outputs": [],
   "source": [
    "y=data['sign_type_num']"
   ]
  },
  {
   "cell_type": "code",
   "execution_count": 23,
   "id": "f740d04d",
   "metadata": {},
   "outputs": [],
   "source": [
    "x_train, x_val, y_train, y_val = train_test_split(x,y,random_state=0, stratify=data['sign_type_num'])"
   ]
  },
  {
   "cell_type": "code",
   "execution_count": 24,
   "id": "fdc8db09",
   "metadata": {},
   "outputs": [
    {
     "data": {
      "text/plain": [
       "array([[ 63,   0,   0,   1,   2,   2,   0,   0,   0,   0,   0,   0,   0,\n",
       "          1,   0,   2],\n",
       "       [  0,  10,   0,   0,   0,   1,   0,   0,   0,   0,   0,   0,   0,\n",
       "          0,   0,   0],\n",
       "       [  0,   0,  70,   0,   0,   0,   0,   0,   0,   0,   0,   0,   0,\n",
       "          0,   0,   1],\n",
       "       [  1,   0,   0,  29,   0,   0,   0,   0,   0,   1,   0,   0,   0,\n",
       "          0,   0,   0],\n",
       "       [  1,   0,   2,   0,  81,   4,   0,   0,   0,   1,   0,   0,   0,\n",
       "          0,   4,   1],\n",
       "       [  2,   0,   2,   1,   2,  52,   0,   0,   0,   0,   0,   0,   0,\n",
       "          0,   0,   1],\n",
       "       [  0,   0,   0,   0,   0,   0,  24,   0,   0,   0,   0,   0,   0,\n",
       "          0,   0,   0],\n",
       "       [  0,   0,   0,   0,   0,   0,   0,  76,   1,   0,   0,   0,   0,\n",
       "          1,   0,   1],\n",
       "       [  0,   0,   0,   2,   1,   0,   0,   0,  45,   0,   0,   0,   0,\n",
       "          1,   0,   0],\n",
       "       [  0,   0,   1,   0,   0,   0,   0,   0,   0,  29,   0,   0,   0,\n",
       "          0,   1,   0],\n",
       "       [  1,   0,   0,   0,   0,   3,   0,   0,   0,   0,  46,   0,   0,\n",
       "          0,   0,   0],\n",
       "       [  0,   0,   0,   0,   0,   0,   0,   0,   0,   0,   0,  22,   0,\n",
       "          0,   0,   2],\n",
       "       [  0,   0,   0,   0,   0,   0,   0,   0,   0,   0,   0,   0,  29,\n",
       "          0,   0,   0],\n",
       "       [  0,   0,   0,   0,   0,   0,   0,   0,   0,   0,   0,   0,   0,\n",
       "         68,   0,   1],\n",
       "       [  0,   0,   0,   1,   0,   0,   0,   0,   0,   0,   0,   0,   0,\n",
       "          0,  57,   0],\n",
       "       [  1,   0,   5,   0,   1,   0,   0,   0,   0,   0,   0,   0,   0,\n",
       "          0,   1, 166]])"
      ]
     },
     "execution_count": 24,
     "metadata": {},
     "output_type": "execute_result"
    }
   ],
   "source": [
    "fit=clf.fit(x_train,y_train)\n",
    "pred=fit.predict(x_val)\n",
    "confusion_matrix(y_val, pred)"
   ]
  },
  {
   "cell_type": "code",
   "execution_count": 25,
   "id": "c7a6dd69",
   "metadata": {},
   "outputs": [
    {
     "name": "stdout",
     "output_type": "stream",
     "text": [
      "              precision    recall  f1-score   support\n",
      "\n",
      "           0       0.91      0.89      0.90        71\n",
      "           1       1.00      0.91      0.95        11\n",
      "           2       0.88      0.99      0.93        71\n",
      "           3       0.85      0.94      0.89        31\n",
      "           4       0.93      0.86      0.90        94\n",
      "           5       0.84      0.87      0.85        60\n",
      "           6       1.00      1.00      1.00        24\n",
      "           7       1.00      0.96      0.98        79\n",
      "           8       0.98      0.92      0.95        49\n",
      "           9       0.94      0.94      0.94        31\n",
      "          10       1.00      0.92      0.96        50\n",
      "          11       1.00      0.92      0.96        24\n",
      "          12       1.00      1.00      1.00        29\n",
      "          13       0.96      0.99      0.97        69\n",
      "          14       0.90      0.98      0.94        58\n",
      "          15       0.95      0.95      0.95       174\n",
      "\n",
      "    accuracy                           0.94       925\n",
      "   macro avg       0.95      0.94      0.94       925\n",
      "weighted avg       0.94      0.94      0.94       925\n",
      "\n"
     ]
    }
   ],
   "source": [
    "print(classification_report(y_val, pred))"
   ]
  },
  {
   "cell_type": "code",
   "execution_count": 26,
   "id": "9a6e90f8",
   "metadata": {
    "scrolled": true
   },
   "outputs": [
    {
     "name": "stdout",
     "output_type": "stream",
     "text": [
      "Training F1 score -  1.0\n",
      "Validation F1 score -  0.9414091786929182\n"
     ]
    }
   ],
   "source": [
    "train_f1, val_f1 = get_f1_scores(clf, x_train, y_train, x_val, y_val)\n",
    "print(\"Training F1 score - \",train_f1)\n",
    "print(\"Validation F1 score - \",val_f1)"
   ]
  },
  {
   "cell_type": "markdown",
   "id": "7be5437e",
   "metadata": {},
   "source": [
    "The gap in training and validation scores indicate overfitting.\n",
    "\n",
    "We proceed to explore other models like Neural networks."
   ]
  },
  {
   "cell_type": "code",
   "execution_count": 44,
   "id": "37b661bf",
   "metadata": {},
   "outputs": [],
   "source": [
    "# lambda_paras = np.logspace(-1, 1, num=5)    #establish the lambda values to test (grid)\n",
    "\n",
    "# # Perform the search\n",
    "# train_performace = list()\n",
    "# valid_performace = list()\n",
    "\n",
    "# for lambda_para in lambda_paras:\n",
    "#     clf = LogisticRegression(penalty='l2', C = 1.0/lambda_para, \n",
    "#                              random_state=0, solver='liblinear', max_iter=1000 , \n",
    "#                              class_weight='balanced').fit(x_train, y_train.ravel())\n",
    "    \n",
    "#     train_f1, val_f1 = get_f1_scores(clf, x_train, y_train, x_val, y_val)\n",
    "    \n",
    "#     train_performace.append(train_f1)\n",
    "#     valid_performace.append(val_f1)"
   ]
  },
  {
   "cell_type": "code",
   "execution_count": 45,
   "id": "4a890a78",
   "metadata": {},
   "outputs": [
    {
     "data": {
      "image/png": "[encoded data removed]",
      "text/plain": [
       "<Figure size 432x288 with 1 Axes>"
      ]
     },
     "metadata": {
      "needs_background": "light"
     },
     "output_type": "display_data"
    }
   ],
   "source": [
    "# plt.plot([1.0/lambda_para for lambda_para in lambda_paras], \n",
    "#          [tp for tp in train_performace], 'r-')\n",
    "# plt.plot([1.0/lambda_para for lambda_para in lambda_paras], \n",
    "#          [vp for vp in valid_performace], 'b--')\n",
    "# plt.xscale(\"log\")\n",
    "# plt.ylabel('F1 Score')\n",
    "# plt.xlabel('Model Capacity')\n",
    "# plt.legend(['Training','Validation'])\n",
    "# plt.show()"
   ]
  },
  {
   "cell_type": "code",
   "execution_count": 36,
   "id": "95742370",
   "metadata": {},
   "outputs": [],
   "source": [
    "train_x, val_x, train_y, val_y = train_test_split(data['image_path'], data['sign_shape_num'], test_size=0.2, stratify=data['sign_shape_num'])"
   ]
  },
  {
   "cell_type": "code",
   "execution_count": 37,
   "id": "5a43ed0b",
   "metadata": {},
   "outputs": [
    {
     "data": {
      "text/plain": [
       "(2959,)"
      ]
     },
     "execution_count": 37,
     "metadata": {},
     "output_type": "execute_result"
    }
   ],
   "source": [
    "train_x.shape"
   ]
  },
  {
   "cell_type": "code",
   "execution_count": 38,
   "id": "42cb9769",
   "metadata": {},
   "outputs": [
    {
     "data": {
      "text/plain": [
       "(740,)"
      ]
     },
     "execution_count": 38,
     "metadata": {},
     "output_type": "execute_result"
    }
   ],
   "source": [
    "val_x.shape"
   ]
  },
  {
   "cell_type": "code",
   "execution_count": 39,
   "id": "ddddc958",
   "metadata": {},
   "outputs": [
    {
     "data": {
      "text/plain": [
       "(2959,)"
      ]
     },
     "execution_count": 39,
     "metadata": {},
     "output_type": "execute_result"
    }
   ],
   "source": [
    "train_y.shape"
   ]
  },
  {
   "cell_type": "code",
   "execution_count": 40,
   "id": "c2fcc289",
   "metadata": {},
   "outputs": [
    {
     "data": {
      "text/plain": [
       "(740,)"
      ]
     },
     "execution_count": 40,
     "metadata": {},
     "output_type": "execute_result"
    }
   ],
   "source": [
    "val_y.shape"
   ]
  },
  {
   "cell_type": "code",
   "execution_count": 41,
   "id": "47911583",
   "metadata": {},
   "outputs": [
    {
     "data": {
      "text/plain": [
       "<AxesSubplot:>"
      ]
     },
     "execution_count": 41,
     "metadata": {},
     "output_type": "execute_result"
    },
    {
     "data": {
      "image/png": "[encoded data removed]",
      "text/plain": [
       "<Figure size 432x288 with 1 Axes>"
      ]
     },
     "metadata": {
      "needs_background": "light"
     },
     "output_type": "display_data"
    }
   ],
   "source": [
    "val_y.hist()"
   ]
  },
  {
   "cell_type": "code",
   "execution_count": 58,
   "id": "bd5e88f3",
   "metadata": {},
   "outputs": [
    {
     "data": {
      "text/plain": [
       "<AxesSubplot:>"
      ]
     },
     "execution_count": 58,
     "metadata": {},
     "output_type": "execute_result"
    },
    {
     "data": {
      "image/png": "[encoded data removed]",
      "text/plain": [
       "<Figure size 432x288 with 1 Axes>"
      ]
     },
     "metadata": {
      "needs_background": "light"
     },
     "output_type": "display_data"
    }
   ],
   "source": [
    "train_y.hist()"
   ]
  },
  {
   "cell_type": "code",
   "execution_count": 85,
   "id": "cc25e3c0",
   "metadata": {},
   "outputs": [],
   "source": [
    "import matplotlib.pyplot as plt\n",
    "def plot_learning_curve(train_loss, val_loss, train_metric, val_metric, metric_name='Accuracy'):\n",
    "    plt.figure(figsize=(10,5))\n",
    "    \n",
    "    plt.subplot(1,2,1)\n",
    "    plt.plot(train_loss, 'r--')\n",
    "    plt.plot(val_loss, 'b--')\n",
    "    plt.xlabel(\"epochs\")\n",
    "    plt.ylabel(\"Loss\")\n",
    "    plt.legend(['train', 'val'], loc='upper left')\n",
    "\n",
    "    plt.subplot(1,2,2)\n",
    "    plt.plot(train_metric, 'r--')\n",
    "    plt.plot(val_metric, 'b--')\n",
    "    plt.xlabel(\"epochs\")\n",
    "    plt.ylabel(metric_name)\n",
    "    plt.legend(['train', 'val'], loc='upper left')\n",
    "\n",
    "    plt.show()"
   ]
  },
  {
   "cell_type": "markdown",
   "id": "4257805c",
   "metadata": {},
   "source": [
    "## Base Model\n",
    "We choose a Multi Layer Perceptron as our base model. In this network let’s set the hidden layer dimension to 256. This is a hyper parameter and we can tune it later."
   ]
  },
  {
   "cell_type": "code",
   "execution_count": 70,
   "id": "83034d3a",
   "metadata": {},
   "outputs": [],
   "source": [
    "INPUT_DIM = (28,28,3)\n",
    "HIDDEN_LAYER_DIM = 256\n",
    "OUTPUT_CLASSES = 5"
   ]
  },
  {
   "cell_type": "code",
   "execution_count": 71,
   "id": "698bf80d",
   "metadata": {},
   "outputs": [],
   "source": [
    "warnings.filterwarnings('ignore')\n",
    "model = tf.keras.Sequential([\n",
    "    tf.keras.layers.Flatten(input_shape=INPUT_DIM),\n",
    "    tf.keras.layers.Dense(HIDDEN_LAYER_DIM, activation='sigmoid'),\n",
    "    tf.keras.layers.Dense(OUTPUT_CLASSES)\n",
    "])"
   ]
  },
  {
   "cell_type": "code",
   "execution_count": 72,
   "id": "aeef211f",
   "metadata": {},
   "outputs": [
    {
     "name": "stdout",
     "output_type": "stream",
     "text": [
      "Model: \"sequential_1\"\n",
      "_________________________________________________________________\n",
      "Layer (type)                 Output Shape              Param #   \n",
      "=================================================================\n",
      "flatten_1 (Flatten)          (None, 2352)              0         \n",
      "_________________________________________________________________\n",
      "dense_2 (Dense)              (None, 256)               602368    \n",
      "_________________________________________________________________\n",
      "dense_3 (Dense)              (None, 5)                 1285      \n",
      "=================================================================\n",
      "Total params: 603,653\n",
      "Trainable params: 603,653\n",
      "Non-trainable params: 0\n",
      "_________________________________________________________________\n"
     ]
    }
   ],
   "source": [
    "model.summary()"
   ]
  },
  {
   "cell_type": "code",
   "execution_count": 73,
   "id": "b3a2fbde",
   "metadata": {},
   "outputs": [
    {
     "data": {
      "image/png": "[encoded data removed]",
      "text/plain": [
       "<IPython.core.display.Image object>"
      ]
     },
     "execution_count": 73,
     "metadata": {},
     "output_type": "execute_result"
    }
   ],
   "source": [
    "tf.keras.utils.plot_model(model, show_shapes=True)"
   ]
  },
  {
   "cell_type": "code",
   "execution_count": 31,
   "id": "75e27168",
   "metadata": {},
   "outputs": [],
   "source": [
    "METRICS = [\n",
    "      keras.metrics.TruePositives(name='tp'),\n",
    "      keras.metrics.FalsePositives(name='fp'),\n",
    "      keras.metrics.TrueNegatives(name='tn'),\n",
    "      keras.metrics.FalseNegatives(name='fn'), \n",
    "      keras.metrics.BinaryAccuracy(name='accuracy'),\n",
    "      keras.metrics.Precision(name='precision'),\n",
    "      keras.metrics.Recall(name='recall'),\n",
    "      keras.metrics.AUC(name='auc'),\n",
    "      keras.metrics.AUC(name='prc', curve='PR'), # precision-recall curve\n",
    "]"
   ]
  },
  {
   "cell_type": "code",
   "execution_count": 74,
   "id": "45af0650",
   "metadata": {},
   "outputs": [],
   "source": [
    "# model.compile(optimizer='SGD',\n",
    "#               loss=tf.keras.losses.CategoricalCrossentropy(from_logits=True), metrics=['accuracy', f1_score, precision_m, recall_m]\n",
    "#               metrics=['categorical_accuracy'])\n",
    "\n",
    "\n",
    "model.compile(optimizer='SGD',\n",
    "              loss=tf.keras.losses.CategoricalCrossentropy(from_logits=True), metrics=['categorical_crossentropy'])"
   ]
  },
  {
   "cell_type": "code",
   "execution_count": 60,
   "id": "63eccf4b",
   "metadata": {},
   "outputs": [],
   "source": [
    "# #NEW\n",
    "# class ModelMetrics(tf.keras.callbacks.Callback):\n",
    "\n",
    "#   def on_train_begin(self,logs={}):\n",
    "#     self.precisions=[]\n",
    "#     self.recalls=[]\n",
    "#     self.f1_scores=[]\n",
    "#   def on_epoch_end(self, batch, logs={}):\n",
    "\n",
    "#     y_val_pred=self.model.predict_classes(x_val)\n",
    "\n",
    "#     _precision,_recall,_f1,_sample=score(y_val,y_val_pred)  \n",
    "\n",
    "#     self.precisions.append(_precision)\n",
    "#     self.recalls.append(_recall)\n",
    "#     self.f1_scores.append(_f1)"
   ]
  },
  {
   "cell_type": "code",
   "execution_count": 75,
   "id": "349b0273",
   "metadata": {},
   "outputs": [],
   "source": [
    "# train_df = pd.DataFrame(data=train_data, columns=['image_path', 'label'])\n",
    "train_df = pd.DataFrame()\n",
    "train_df['image_path']=train_x.to_frame()\n",
    "train_df['sign_shape_num']=train_y.to_frame()"
   ]
  },
  {
   "cell_type": "code",
   "execution_count": 76,
   "id": "bc26d7fe",
   "metadata": {},
   "outputs": [
    {
     "data": {
      "text/html": [
       "<div>\n",
       "<style scoped>\n",
       "    .dataframe tbody tr th:only-of-type {\n",
       "        vertical-align: middle;\n",
       "    }\n",
       "\n",
       "    .dataframe tbody tr th {\n",
       "        vertical-align: top;\n",
       "    }\n",
       "\n",
       "    .dataframe thead th {\n",
       "        text-align: right;\n",
       "    }\n",
       "</style>\n",
       "<table border=\"1\" class=\"dataframe\">\n",
       "  <thead>\n",
       "    <tr style=\"text-align: right;\">\n",
       "      <th></th>\n",
       "      <th>image_path</th>\n",
       "      <th>sign_shape_num</th>\n",
       "    </tr>\n",
       "  </thead>\n",
       "  <tbody>\n",
       "    <tr>\n",
       "      <th>1532</th>\n",
       "      <td>./trafficsigns_dataset/triangle/warning/00965_...</td>\n",
       "      <td>3</td>\n",
       "    </tr>\n",
       "    <tr>\n",
       "      <th>714</th>\n",
       "      <td>./trafficsigns_dataset/square/parking/00010_00...</td>\n",
       "      <td>2</td>\n",
       "    </tr>\n",
       "    <tr>\n",
       "      <th>936</th>\n",
       "      <td>./trafficsigns_dataset/square/crossing/00790_0...</td>\n",
       "      <td>2</td>\n",
       "    </tr>\n",
       "    <tr>\n",
       "      <th>2112</th>\n",
       "      <td>./trafficsigns_dataset/round/limitedtraffic/00...</td>\n",
       "      <td>4</td>\n",
       "    </tr>\n",
       "    <tr>\n",
       "      <th>2164</th>\n",
       "      <td>./trafficsigns_dataset/round/limitedtraffic/01...</td>\n",
       "      <td>4</td>\n",
       "    </tr>\n",
       "  </tbody>\n",
       "</table>\n",
       "</div>"
      ],
      "text/plain": [
       "                                             image_path  sign_shape_num\n",
       "1532  ./trafficsigns_dataset/triangle/warning/00965_...               3\n",
       "714   ./trafficsigns_dataset/square/parking/00010_00...               2\n",
       "936   ./trafficsigns_dataset/square/crossing/00790_0...               2\n",
       "2112  ./trafficsigns_dataset/round/limitedtraffic/00...               4\n",
       "2164  ./trafficsigns_dataset/round/limitedtraffic/01...               4"
      ]
     },
     "execution_count": 76,
     "metadata": {},
     "output_type": "execute_result"
    }
   ],
   "source": [
    "train_df.head()"
   ]
  },
  {
   "cell_type": "code",
   "execution_count": 77,
   "id": "1d15d573",
   "metadata": {},
   "outputs": [],
   "source": [
    "val_df = pd.DataFrame()\n",
    "val_df['image_path']=val_x.to_frame()\n",
    "val_df['sign_shape_num']=val_y.to_frame()"
   ]
  },
  {
   "cell_type": "code",
   "execution_count": 78,
   "id": "94ebdf35",
   "metadata": {},
   "outputs": [
    {
     "data": {
      "text/html": [
       "<div>\n",
       "<style scoped>\n",
       "    .dataframe tbody tr th:only-of-type {\n",
       "        vertical-align: middle;\n",
       "    }\n",
       "\n",
       "    .dataframe tbody tr th {\n",
       "        vertical-align: top;\n",
       "    }\n",
       "\n",
       "    .dataframe thead th {\n",
       "        text-align: right;\n",
       "    }\n",
       "</style>\n",
       "<table border=\"1\" class=\"dataframe\">\n",
       "  <thead>\n",
       "    <tr style=\"text-align: right;\">\n",
       "      <th></th>\n",
       "      <th>image_path</th>\n",
       "      <th>sign_shape_num</th>\n",
       "    </tr>\n",
       "  </thead>\n",
       "  <tbody>\n",
       "    <tr>\n",
       "      <th>3443</th>\n",
       "      <td>./trafficsigns_dataset/round/bicycle/00171_000...</td>\n",
       "      <td>4</td>\n",
       "    </tr>\n",
       "    <tr>\n",
       "      <th>1689</th>\n",
       "      <td>./trafficsigns_dataset/triangle/warning/00294_...</td>\n",
       "      <td>3</td>\n",
       "    </tr>\n",
       "    <tr>\n",
       "      <th>2947</th>\n",
       "      <td>./trafficsigns_dataset/round/noentry/00697_000...</td>\n",
       "      <td>4</td>\n",
       "    </tr>\n",
       "    <tr>\n",
       "      <th>199</th>\n",
       "      <td>./trafficsigns_dataset/diamond/rightofway/0150...</td>\n",
       "      <td>0</td>\n",
       "    </tr>\n",
       "    <tr>\n",
       "      <th>1972</th>\n",
       "      <td>./trafficsigns_dataset/round/traveldirection/0...</td>\n",
       "      <td>4</td>\n",
       "    </tr>\n",
       "  </tbody>\n",
       "</table>\n",
       "</div>"
      ],
      "text/plain": [
       "                                             image_path  sign_shape_num\n",
       "3443  ./trafficsigns_dataset/round/bicycle/00171_000...               4\n",
       "1689  ./trafficsigns_dataset/triangle/warning/00294_...               3\n",
       "2947  ./trafficsigns_dataset/round/noentry/00697_000...               4\n",
       "199   ./trafficsigns_dataset/diamond/rightofway/0150...               0\n",
       "1972  ./trafficsigns_dataset/round/traveldirection/0...               4"
      ]
     },
     "execution_count": 78,
     "metadata": {},
     "output_type": "execute_result"
    }
   ],
   "source": [
    "val_df.head()"
   ]
  },
  {
   "cell_type": "code",
   "execution_count": 79,
   "id": "2b27bc91",
   "metadata": {},
   "outputs": [],
   "source": [
    "train_df.to_csv('TrainData.csv')\n",
    "val_df.to_csv('ValData.csv')"
   ]
  },
  {
   "cell_type": "code",
   "execution_count": 81,
   "id": "be734e8c",
   "metadata": {},
   "outputs": [],
   "source": [
    "train_df['sign_shape_num']=train_df['sign_shape_num'].astype(str)\n",
    "val_df['sign_shape_num']=val_df['sign_shape_num'].astype(str)"
   ]
  },
  {
   "cell_type": "code",
   "execution_count": 82,
   "id": "60957aee",
   "metadata": {},
   "outputs": [
    {
     "name": "stdout",
     "output_type": "stream",
     "text": [
      "Found 2959 validated image filenames belonging to 5 classes.\n",
      "Found 740 validated image filenames belonging to 5 classes.\n"
     ]
    }
   ],
   "source": [
    "from tensorflow.keras.preprocessing.image import ImageDataGenerator\n",
    "\n",
    "train_datagen = ImageDataGenerator(rescale=1./255, data_format='channels_last')\n",
    "val_datagen = ImageDataGenerator(rescale=1./255, data_format='channels_last')\n",
    "\n",
    "batch_size = 32\n",
    "\n",
    "train_generator = train_datagen.flow_from_dataframe(\n",
    "        dataframe=train_df,\n",
    "        directory='./',\n",
    "        x_col=\"image_path\",\n",
    "        y_col=\"sign_shape_num\",\n",
    "        target_size=(28, 28),\n",
    "        batch_size=batch_size,\n",
    "        class_mode='categorical')\n",
    "\n",
    "validation_generator = val_datagen.flow_from_dataframe(\n",
    "        dataframe=val_df,\n",
    "        directory='./',\n",
    "        x_col=\"image_path\",\n",
    "        y_col=\"sign_shape_num\",\n",
    "        target_size=(28, 28),\n",
    "        batch_size=batch_size,\n",
    "        class_mode='categorical')"
   ]
  },
  {
   "cell_type": "code",
   "execution_count": 69,
   "id": "50948d40",
   "metadata": {},
   "outputs": [],
   "source": [
    "# history = model.fit_generator(train_generator, validation_data = validation_generator, epochs=100, verbose=0)"
   ]
  },
  {
   "cell_type": "code",
   "execution_count": null,
   "id": "0ea16b0f",
   "metadata": {},
   "outputs": [],
   "source": []
  },
  {
   "cell_type": "code",
   "execution_count": 83,
   "id": "ed960982",
   "metadata": {
    "scrolled": true
   },
   "outputs": [
    {
     "name": "stdout",
     "output_type": "stream",
     "text": [
      "Epoch 1/3\n",
      "93/93 [==============================] - 8s 87ms/step - loss: 1.2018 - categorical_crossentropy: 14.3699 - val_loss: 1.1344 - val_categorical_crossentropy: 14.6724\n",
      "Epoch 2/3\n",
      "93/93 [==============================] - 8s 88ms/step - loss: 1.0909 - categorical_crossentropy: 14.7907 - val_loss: 1.0425 - val_categorical_crossentropy: 14.8347\n",
      "Epoch 3/3\n",
      "93/93 [==============================] - 7s 79ms/step - loss: 1.0021 - categorical_crossentropy: 14.9509 - val_loss: 0.9629 - val_categorical_crossentropy: 14.8834\n"
     ]
    }
   ],
   "source": [
    "history = model.fit_generator(train_generator, validation_data = validation_generator, epochs=3, verbose=1)"
   ]
  },
  {
   "cell_type": "code",
   "execution_count": 86,
   "id": "ee70e5a5",
   "metadata": {},
   "outputs": [
    {
     "data": {
      "image/png": "[encoded data removed]",
      "text/plain": [
       "<Figure size 720x360 with 2 Axes>"
      ]
     },
     "metadata": {
      "needs_background": "light"
     },
     "output_type": "display_data"
    }
   ],
   "source": [
    "# plot_learning_curve(history.history['loss'], history.history['val_loss'], \n",
    "#                     history.history['categorical_accuracy'], history.history['val_categorical_accuracy'], \n",
    "#                     metric_name='Accuracy')\n",
    "\n",
    "plot_learning_curve(history.history['loss'], history.history['val_loss'], \n",
    "                    history.history['categorical_crossentropy'], history.history['val_categorical_crossentropy'], \n",
    "                    metric_name='Precision')"
   ]
  },
  {
   "cell_type": "code",
   "execution_count": 76,
   "id": "ae6d291a",
   "metadata": {},
   "outputs": [
    {
     "data": {
      "image/png": "[encoded data removed]",
      "text/plain": [
       "<Figure size 720x360 with 2 Axes>"
      ]
     },
     "metadata": {
      "needs_background": "light"
     },
     "output_type": "display_data"
    }
   ],
   "source": [
    "plt.figure(figsize=(10,5))\n",
    "plt.subplot(1,2,1)\n",
    "plt.plot(history.history['loss'], 'r--')\n",
    "plt.plot(history.history['val_loss'], 'b--')\n",
    "plt.xlabel(\"epochs\")\n",
    "plt.ylabel(\"Loss\")\n",
    "plt.legend(['train', 'val'], loc='upper left')\n",
    "\n",
    "plt.subplot(1,2,2)\n",
    "plt.plot(history.history['categorical_accuracy'], 'r--')\n",
    "plt.plot(history.history['val_categorical_accuracy'], 'b--')\n",
    "plt.xlabel(\"epochs\")\n",
    "plt.ylabel(\"Accuracy\")\n",
    "plt.legend(['train', 'val'], loc='upper left')\n",
    "plt.show()\n",
    "\n",
    "plt.show()"
   ]
  },
  {
   "cell_type": "code",
   "execution_count": 91,
   "id": "d9a6020e",
   "metadata": {},
   "outputs": [
    {
     "name": "stdout",
     "output_type": "stream",
     "text": [
      "Collecting package metadata (current_repodata.json): done\n",
      "Solving environment: failed with initial frozen solve. Retrying with flexible solve.\n",
      "Solving environment: failed with repodata from current_repodata.json, will retry with next repodata source.\n",
      "Collecting package metadata (repodata.json): done\n",
      "Solving environment: failed with initial frozen solve. Retrying with flexible solve.\n",
      "Solving environment: / \n",
      "Found conflicts! Looking for incompatible packages.\n",
      "This can take several minutes.  Press CTRL-C to abort.\n",
      "                                                                               failed\n",
      "\n",
      "UnsatisfiableError: The following specifications were found\n",
      "to be incompatible with the existing python installation in your environment:\n",
      "\n",
      "Specifications:\n",
      "\n",
      "  - tensorflow-addons -> python[version='>=3.8,<3.9.0a0']\n",
      "\n",
      "Your python: python=3.7\n",
      "\n",
      "If python is on the left-most side of the chain, that's the version you've asked for.\n",
      "When python appears to the right, that indicates that the thing on the left is somehow\n",
      "not available for the python version you are constrained to. Note that conda will not\n",
      "change your python version to a different minor version unless you explicitly specify\n",
      "that.\n",
      "\n",
      "The following specifications were found to be incompatible with your system:\n",
      "\n",
      "  - feature:/osx-64::__osx==10.16=0\n",
      "  - feature:|@/osx-64::__osx==10.16=0\n",
      "  - tensorflow-addons -> __osx[version='>=10.16|>=11.0']\n",
      "\n",
      "Your installed version is: 10.16\n",
      "\n",
      "\n",
      "\n",
      "Note: you may need to restart the kernel to use updated packages.\n"
     ]
    }
   ],
   "source": [
    "conda install -c isuruf/label/tf tensorflow-addons"
   ]
  },
  {
   "cell_type": "code",
   "execution_count": 87,
   "id": "8ecac8cc",
   "metadata": {},
   "outputs": [
    {
     "ename": "ModuleNotFoundError",
     "evalue": "No module named 'tensorflow_addons'",
     "output_type": "error",
     "traceback": [
      "\u001b[0;31m---------------------------------------------------------------------------\u001b[0m",
      "\u001b[0;31mModuleNotFoundError\u001b[0m                       Traceback (most recent call last)",
      "\u001b[0;32m/var/folders/sn/sz8xm4yx0r76v882hn44l2cr0000gn/T/ipykernel_70144/802459132.py\u001b[0m in \u001b[0;36m<module>\u001b[0;34m\u001b[0m\n\u001b[0;32m----> 1\u001b[0;31m \u001b[0;32mimport\u001b[0m \u001b[0mtensorflow_addons\u001b[0m \u001b[0;32mas\u001b[0m \u001b[0mtfa\u001b[0m\u001b[0;34m\u001b[0m\u001b[0;34m\u001b[0m\u001b[0m\n\u001b[0m",
      "\u001b[0;31mModuleNotFoundError\u001b[0m: No module named 'tensorflow_addons'"
     ]
    }
   ],
   "source": [
    "import tensorflow_addons as tfa"
   ]
  },
  {
   "cell_type": "code",
   "execution_count": null,
   "id": "46fa41b8",
   "metadata": {},
   "outputs": [],
   "source": []
  },
  {
   "cell_type": "code",
   "execution_count": null,
   "id": "0f022de9",
   "metadata": {},
   "outputs": [],
   "source": []
  },
  {
   "cell_type": "code",
   "execution_count": null,
   "id": "ecf9c0af",
   "metadata": {},
   "outputs": [],
   "source": []
  },
  {
   "cell_type": "code",
   "execution_count": null,
   "id": "e5d59d2c",
   "metadata": {},
   "outputs": [],
   "source": []
  },
  {
   "cell_type": "code",
   "execution_count": null,
   "id": "bced5720",
   "metadata": {},
   "outputs": [],
   "source": []
  },
  {
   "cell_type": "code",
   "execution_count": null,
   "id": "3c5b7a07",
   "metadata": {},
   "outputs": [],
   "source": []
  },
  {
   "cell_type": "code",
   "execution_count": 78,
   "id": "b8e9df55",
   "metadata": {},
   "outputs": [],
   "source": [
    "# import cv2"
   ]
  },
  {
   "cell_type": "code",
   "execution_count": 79,
   "id": "2d36ea09",
   "metadata": {},
   "outputs": [],
   "source": [
    "# def grayscale(img):\n",
    "#     image = cv2.cvtColor(img, cv2.COLOR_BGR2GRAY)\n",
    "#     plt.axis('off')\n",
    "#     return image"
   ]
  },
  {
   "cell_type": "code",
   "execution_count": 160,
   "id": "ee0f673b",
   "metadata": {},
   "outputs": [
    {
     "data": {
      "text/html": [
       "<div>\n",
       "<style scoped>\n",
       "    .dataframe tbody tr th:only-of-type {\n",
       "        vertical-align: middle;\n",
       "    }\n",
       "\n",
       "    .dataframe tbody tr th {\n",
       "        vertical-align: top;\n",
       "    }\n",
       "\n",
       "    .dataframe thead th {\n",
       "        text-align: right;\n",
       "    }\n",
       "</style>\n",
       "<table border=\"1\" class=\"dataframe\">\n",
       "  <thead>\n",
       "    <tr style=\"text-align: right;\">\n",
       "      <th></th>\n",
       "      <th>Unnamed: 0</th>\n",
       "      <th>image_path</th>\n",
       "      <th>label</th>\n",
       "      <th>sign_type</th>\n",
       "      <th>matrix</th>\n",
       "    </tr>\n",
       "  </thead>\n",
       "  <tbody>\n",
       "    <tr>\n",
       "      <th>0</th>\n",
       "      <td>0</td>\n",
       "      <td>./trafficsigns_dataset/diamond/rightofway/0003...</td>\n",
       "      <td>diamond</td>\n",
       "      <td>rightofway</td>\n",
       "      <td>[ 66  67  65  66  66  65  62  59  64  66  65  ...</td>\n",
       "    </tr>\n",
       "    <tr>\n",
       "      <th>1</th>\n",
       "      <td>1</td>\n",
       "      <td>./trafficsigns_dataset/diamond/rightofway/0180...</td>\n",
       "      <td>diamond</td>\n",
       "      <td>rightofway</td>\n",
       "      <td>[ 58  61  60  65  75  78  81  85  83  93  97  ...</td>\n",
       "    </tr>\n",
       "    <tr>\n",
       "      <th>2</th>\n",
       "      <td>2</td>\n",
       "      <td>./trafficsigns_dataset/diamond/rightofway/0170...</td>\n",
       "      <td>diamond</td>\n",
       "      <td>rightofway</td>\n",
       "      <td>[100 102 100 101 102 100 105 104 104 105 105 1...</td>\n",
       "    </tr>\n",
       "    <tr>\n",
       "      <th>3</th>\n",
       "      <td>3</td>\n",
       "      <td>./trafficsigns_dataset/diamond/rightofway/0011...</td>\n",
       "      <td>diamond</td>\n",
       "      <td>rightofway</td>\n",
       "      <td>[117 133 136 105  77 126 125  92  76 112  85  ...</td>\n",
       "    </tr>\n",
       "    <tr>\n",
       "      <th>4</th>\n",
       "      <td>4</td>\n",
       "      <td>./trafficsigns_dataset/diamond/rightofway/0123...</td>\n",
       "      <td>diamond</td>\n",
       "      <td>rightofway</td>\n",
       "      <td>[ 63  74  73  45  44  45  46  46  45  44  41  ...</td>\n",
       "    </tr>\n",
       "  </tbody>\n",
       "</table>\n",
       "</div>"
      ],
      "text/plain": [
       "   Unnamed: 0                                         image_path    label  \\\n",
       "0           0  ./trafficsigns_dataset/diamond/rightofway/0003...  diamond   \n",
       "1           1  ./trafficsigns_dataset/diamond/rightofway/0180...  diamond   \n",
       "2           2  ./trafficsigns_dataset/diamond/rightofway/0170...  diamond   \n",
       "3           3  ./trafficsigns_dataset/diamond/rightofway/0011...  diamond   \n",
       "4           4  ./trafficsigns_dataset/diamond/rightofway/0123...  diamond   \n",
       "\n",
       "    sign_type                                             matrix  \n",
       "0  rightofway  [ 66  67  65  66  66  65  62  59  64  66  65  ...  \n",
       "1  rightofway  [ 58  61  60  65  75  78  81  85  83  93  97  ...  \n",
       "2  rightofway  [100 102 100 101 102 100 105 104 104 105 105 1...  \n",
       "3  rightofway  [117 133 136 105  77 126 125  92  76 112  85  ...  \n",
       "4  rightofway  [ 63  74  73  45  44  45  46  46  45  44  41  ...  "
      ]
     },
     "execution_count": 160,
     "metadata": {},
     "output_type": "execute_result"
    }
   ],
   "source": [
    "# csv1 = pd.read_csv(\"df.csv\") \n",
    "# csv1.head()\n",
    "# #csv1.shape"
   ]
  },
  {
   "cell_type": "code",
   "execution_count": 179,
   "id": "f520aa41",
   "metadata": {},
   "outputs": [
    {
     "data": {
      "text/plain": [
       "(3699, 789)"
      ]
     },
     "execution_count": 179,
     "metadata": {},
     "output_type": "execute_result"
    }
   ],
   "source": [
    "\n",
    "# csv2 = pd.read_csv(\"img_pixels_3.csv\", header=None)\n",
    "# csv2.head()\n",
    "# csv2['image_path']=csv1['image_path']\n",
    "# #csv2.shape\n",
    "# merged_data = csv1.merge(csv2,on=[\"image_path\"])\n",
    "# merged_data.shape\n",
    "# #data1 = pd.read_csv(\"data/sheet1.csv\") data1.head()"
   ]
  },
  {
   "cell_type": "code",
   "execution_count": 165,
   "id": "0f7d0a12",
   "metadata": {},
   "outputs": [
    {
     "data": {
      "text/plain": [
       "Index(['Unnamed: 0', 'image_path',      'label',  'sign_type',     'matrix',\n",
       "                  0,            1,            2,            3,            4,\n",
       "       ...\n",
       "                774,          775,          776,          777,          778,\n",
       "                779,          780,          781,          782,          783],\n",
       "      dtype='object', length=789)"
      ]
     },
     "execution_count": 165,
     "metadata": {},
     "output_type": "execute_result"
    }
   ],
   "source": [
    "# merged_data.columns"
   ]
  },
  {
   "cell_type": "code",
   "execution_count": 163,
   "id": "f1f7a15e",
   "metadata": {},
   "outputs": [
    {
     "data": {
      "text/plain": [
       "pandas.core.frame.DataFrame"
      ]
     },
     "execution_count": 163,
     "metadata": {},
     "output_type": "execute_result"
    }
   ],
   "source": [
    "# type(merged_data)"
   ]
  },
  {
   "cell_type": "code",
   "execution_count": 185,
   "id": "3441f046",
   "metadata": {},
   "outputs": [
    {
     "name": "stdout",
     "output_type": "stream",
     "text": [
      "(3699, 784) 3699 (3699,)\n"
     ]
    }
   ],
   "source": [
    "# y= merged_data['label'].to_numpy()\n",
    "# n=len(merged_data)\n",
    "# #x=merged_data.drop(\"label\", \"Unnamed: 0\",\"image_path\",\"sign_type\", \"matrix\", axis=1)\n",
    "# x=csv2.drop(\"image_path\", axis=1)\n",
    "# # n=len(digits.images)\n",
    "# # x=digits.images.reshape((n, -1))\n",
    "# print(x.shape, n, y.shape)"
   ]
  },
  {
   "cell_type": "code",
   "execution_count": 186,
   "id": "fcbe9f60",
   "metadata": {},
   "outputs": [
    {
     "data": {
      "text/html": [
       "<div>\n",
       "<style scoped>\n",
       "    .dataframe tbody tr th:only-of-type {\n",
       "        vertical-align: middle;\n",
       "    }\n",
       "\n",
       "    .dataframe tbody tr th {\n",
       "        vertical-align: top;\n",
       "    }\n",
       "\n",
       "    .dataframe thead th {\n",
       "        text-align: right;\n",
       "    }\n",
       "</style>\n",
       "<table border=\"1\" class=\"dataframe\">\n",
       "  <thead>\n",
       "    <tr style=\"text-align: right;\">\n",
       "      <th></th>\n",
       "      <th>0</th>\n",
       "      <th>1</th>\n",
       "      <th>2</th>\n",
       "      <th>3</th>\n",
       "      <th>4</th>\n",
       "      <th>5</th>\n",
       "      <th>6</th>\n",
       "      <th>7</th>\n",
       "      <th>8</th>\n",
       "      <th>9</th>\n",
       "      <th>...</th>\n",
       "      <th>774</th>\n",
       "      <th>775</th>\n",
       "      <th>776</th>\n",
       "      <th>777</th>\n",
       "      <th>778</th>\n",
       "      <th>779</th>\n",
       "      <th>780</th>\n",
       "      <th>781</th>\n",
       "      <th>782</th>\n",
       "      <th>783</th>\n",
       "    </tr>\n",
       "  </thead>\n",
       "  <tbody>\n",
       "    <tr>\n",
       "      <th>0</th>\n",
       "      <td>66</td>\n",
       "      <td>67</td>\n",
       "      <td>65</td>\n",
       "      <td>66</td>\n",
       "      <td>66</td>\n",
       "      <td>65</td>\n",
       "      <td>62</td>\n",
       "      <td>59</td>\n",
       "      <td>64</td>\n",
       "      <td>66</td>\n",
       "      <td>...</td>\n",
       "      <td>22</td>\n",
       "      <td>33</td>\n",
       "      <td>32</td>\n",
       "      <td>71</td>\n",
       "      <td>87</td>\n",
       "      <td>47</td>\n",
       "      <td>52</td>\n",
       "      <td>48</td>\n",
       "      <td>52</td>\n",
       "      <td>42</td>\n",
       "    </tr>\n",
       "    <tr>\n",
       "      <th>1</th>\n",
       "      <td>58</td>\n",
       "      <td>61</td>\n",
       "      <td>60</td>\n",
       "      <td>65</td>\n",
       "      <td>75</td>\n",
       "      <td>78</td>\n",
       "      <td>81</td>\n",
       "      <td>85</td>\n",
       "      <td>83</td>\n",
       "      <td>93</td>\n",
       "      <td>...</td>\n",
       "      <td>112</td>\n",
       "      <td>113</td>\n",
       "      <td>114</td>\n",
       "      <td>107</td>\n",
       "      <td>98</td>\n",
       "      <td>84</td>\n",
       "      <td>72</td>\n",
       "      <td>79</td>\n",
       "      <td>83</td>\n",
       "      <td>58</td>\n",
       "    </tr>\n",
       "    <tr>\n",
       "      <th>2</th>\n",
       "      <td>100</td>\n",
       "      <td>102</td>\n",
       "      <td>100</td>\n",
       "      <td>101</td>\n",
       "      <td>102</td>\n",
       "      <td>100</td>\n",
       "      <td>105</td>\n",
       "      <td>104</td>\n",
       "      <td>104</td>\n",
       "      <td>105</td>\n",
       "      <td>...</td>\n",
       "      <td>63</td>\n",
       "      <td>61</td>\n",
       "      <td>60</td>\n",
       "      <td>58</td>\n",
       "      <td>54</td>\n",
       "      <td>48</td>\n",
       "      <td>47</td>\n",
       "      <td>42</td>\n",
       "      <td>39</td>\n",
       "      <td>37</td>\n",
       "    </tr>\n",
       "    <tr>\n",
       "      <th>3</th>\n",
       "      <td>117</td>\n",
       "      <td>133</td>\n",
       "      <td>136</td>\n",
       "      <td>105</td>\n",
       "      <td>77</td>\n",
       "      <td>126</td>\n",
       "      <td>125</td>\n",
       "      <td>92</td>\n",
       "      <td>76</td>\n",
       "      <td>112</td>\n",
       "      <td>...</td>\n",
       "      <td>113</td>\n",
       "      <td>146</td>\n",
       "      <td>191</td>\n",
       "      <td>213</td>\n",
       "      <td>213</td>\n",
       "      <td>208</td>\n",
       "      <td>208</td>\n",
       "      <td>208</td>\n",
       "      <td>197</td>\n",
       "      <td>191</td>\n",
       "    </tr>\n",
       "    <tr>\n",
       "      <th>4</th>\n",
       "      <td>63</td>\n",
       "      <td>74</td>\n",
       "      <td>73</td>\n",
       "      <td>45</td>\n",
       "      <td>44</td>\n",
       "      <td>45</td>\n",
       "      <td>46</td>\n",
       "      <td>46</td>\n",
       "      <td>45</td>\n",
       "      <td>44</td>\n",
       "      <td>...</td>\n",
       "      <td>139</td>\n",
       "      <td>115</td>\n",
       "      <td>93</td>\n",
       "      <td>75</td>\n",
       "      <td>46</td>\n",
       "      <td>49</td>\n",
       "      <td>57</td>\n",
       "      <td>65</td>\n",
       "      <td>71</td>\n",
       "      <td>69</td>\n",
       "    </tr>\n",
       "  </tbody>\n",
       "</table>\n",
       "<p>5 rows × 784 columns</p>\n",
       "</div>"
      ],
      "text/plain": [
       "   0    1    2    3    4    5    6    7    8    9    ...  774  775  776  777  \\\n",
       "0   66   67   65   66   66   65   62   59   64   66  ...   22   33   32   71   \n",
       "1   58   61   60   65   75   78   81   85   83   93  ...  112  113  114  107   \n",
       "2  100  102  100  101  102  100  105  104  104  105  ...   63   61   60   58   \n",
       "3  117  133  136  105   77  126  125   92   76  112  ...  113  146  191  213   \n",
       "4   63   74   73   45   44   45   46   46   45   44  ...  139  115   93   75   \n",
       "\n",
       "   778  779  780  781  782  783  \n",
       "0   87   47   52   48   52   42  \n",
       "1   98   84   72   79   83   58  \n",
       "2   54   48   47   42   39   37  \n",
       "3  213  208  208  208  197  191  \n",
       "4   46   49   57   65   71   69  \n",
       "\n",
       "[5 rows x 784 columns]"
      ]
     },
     "execution_count": 186,
     "metadata": {},
     "output_type": "execute_result"
    }
   ],
   "source": [
    "# x.head()"
   ]
  },
  {
   "cell_type": "code",
   "execution_count": 146,
   "id": "6dbc1b73",
   "metadata": {},
   "outputs": [],
   "source": [
    "# data.to_csv(\"df.csv\")"
   ]
  },
  {
   "cell_type": "code",
   "execution_count": 147,
   "id": "a09504f7",
   "metadata": {},
   "outputs": [
    {
     "data": {
      "text/html": [
       "<div>\n",
       "<style scoped>\n",
       "    .dataframe tbody tr th:only-of-type {\n",
       "        vertical-align: middle;\n",
       "    }\n",
       "\n",
       "    .dataframe tbody tr th {\n",
       "        vertical-align: top;\n",
       "    }\n",
       "\n",
       "    .dataframe thead th {\n",
       "        text-align: right;\n",
       "    }\n",
       "</style>\n",
       "<table border=\"1\" class=\"dataframe\">\n",
       "  <thead>\n",
       "    <tr style=\"text-align: right;\">\n",
       "      <th></th>\n",
       "      <th>image_path</th>\n",
       "      <th>label</th>\n",
       "      <th>sign_type</th>\n",
       "      <th>matrix</th>\n",
       "    </tr>\n",
       "  </thead>\n",
       "  <tbody>\n",
       "    <tr>\n",
       "      <th>0</th>\n",
       "      <td>./trafficsigns_dataset/diamond/rightofway/0003...</td>\n",
       "      <td>diamond</td>\n",
       "      <td>rightofway</td>\n",
       "      <td>[66, 67, 65, 66, 66, 65, 62, 59, 64, 66, 65, 6...</td>\n",
       "    </tr>\n",
       "    <tr>\n",
       "      <th>1</th>\n",
       "      <td>./trafficsigns_dataset/diamond/rightofway/0180...</td>\n",
       "      <td>diamond</td>\n",
       "      <td>rightofway</td>\n",
       "      <td>[58, 61, 60, 65, 75, 78, 81, 85, 83, 93, 97, 9...</td>\n",
       "    </tr>\n",
       "    <tr>\n",
       "      <th>2</th>\n",
       "      <td>./trafficsigns_dataset/diamond/rightofway/0170...</td>\n",
       "      <td>diamond</td>\n",
       "      <td>rightofway</td>\n",
       "      <td>[100, 102, 100, 101, 102, 100, 105, 104, 104, ...</td>\n",
       "    </tr>\n",
       "    <tr>\n",
       "      <th>3</th>\n",
       "      <td>./trafficsigns_dataset/diamond/rightofway/0011...</td>\n",
       "      <td>diamond</td>\n",
       "      <td>rightofway</td>\n",
       "      <td>[117, 133, 136, 105, 77, 126, 125, 92, 76, 112...</td>\n",
       "    </tr>\n",
       "    <tr>\n",
       "      <th>4</th>\n",
       "      <td>./trafficsigns_dataset/diamond/rightofway/0123...</td>\n",
       "      <td>diamond</td>\n",
       "      <td>rightofway</td>\n",
       "      <td>[63, 74, 73, 45, 44, 45, 46, 46, 45, 44, 41, 3...</td>\n",
       "    </tr>\n",
       "  </tbody>\n",
       "</table>\n",
       "</div>"
      ],
      "text/plain": [
       "                                          image_path    label   sign_type  \\\n",
       "0  ./trafficsigns_dataset/diamond/rightofway/0003...  diamond  rightofway   \n",
       "1  ./trafficsigns_dataset/diamond/rightofway/0180...  diamond  rightofway   \n",
       "2  ./trafficsigns_dataset/diamond/rightofway/0170...  diamond  rightofway   \n",
       "3  ./trafficsigns_dataset/diamond/rightofway/0011...  diamond  rightofway   \n",
       "4  ./trafficsigns_dataset/diamond/rightofway/0123...  diamond  rightofway   \n",
       "\n",
       "                                              matrix  \n",
       "0  [66, 67, 65, 66, 66, 65, 62, 59, 64, 66, 65, 6...  \n",
       "1  [58, 61, 60, 65, 75, 78, 81, 85, 83, 93, 97, 9...  \n",
       "2  [100, 102, 100, 101, 102, 100, 105, 104, 104, ...  \n",
       "3  [117, 133, 136, 105, 77, 126, 125, 92, 76, 112...  \n",
       "4  [63, 74, 73, 45, 44, 45, 46, 46, 45, 44, 41, 3...  "
      ]
     },
     "execution_count": 147,
     "metadata": {},
     "output_type": "execute_result"
    }
   ],
   "source": [
    "# data.head()"
   ]
  },
  {
   "cell_type": "code",
   "execution_count": 98,
   "id": "070e3df7",
   "metadata": {},
   "outputs": [],
   "source": [
    "# from sklearn.model_selection import train_test_split\n",
    "# from sklearn.neighbors import KNeighborsClassifier\n",
    "# \n",
    "# import pylab as plt\n",
    "# from sklearn.datasets import load_digits\n",
    "# digits = load_digits()"
   ]
  },
  {
   "cell_type": "code",
   "execution_count": 107,
   "id": "cb7b2813",
   "metadata": {},
   "outputs": [
    {
     "data": {
      "text/plain": [
       "pandas.core.series.Series"
      ]
     },
     "execution_count": 107,
     "metadata": {},
     "output_type": "execute_result"
    }
   ],
   "source": [
    "# type(data['label'])"
   ]
  },
  {
   "cell_type": "code",
   "execution_count": 108,
   "id": "00c919f2",
   "metadata": {},
   "outputs": [
    {
     "data": {
      "text/plain": [
       "3699"
      ]
     },
     "execution_count": 108,
     "metadata": {},
     "output_type": "execute_result"
    }
   ],
   "source": [
    "# len(data)"
   ]
  },
  {
   "cell_type": "code",
   "execution_count": 118,
   "id": "346d1e99",
   "metadata": {},
   "outputs": [
    {
     "data": {
      "text/plain": [
       "numpy.ndarray"
      ]
     },
     "execution_count": 118,
     "metadata": {},
     "output_type": "execute_result"
    }
   ],
   "source": [
    "# type(x)"
   ]
  },
  {
   "cell_type": "code",
   "execution_count": 144,
   "id": "443ba1d4",
   "metadata": {},
   "outputs": [
    {
     "name": "stdout",
     "output_type": "stream",
     "text": [
      "(3699, 1) 3699 (3699,)\n"
     ]
    }
   ],
   "source": [
    "y= data['label'].to_numpy()\n",
    "n=len(data)\n",
    "x=data['matrix'].to_numpy().reshape((n,-1))\n",
    "# n=len(digits.images)\n",
    "# x=digits.images.reshape((n, -1))\n",
    "print(x.shape, n, y.shape)"
   ]
  },
  {
   "cell_type": "code",
   "execution_count": 139,
   "id": "4b0b28eb",
   "metadata": {},
   "outputs": [],
   "source": [
    "# x=x.to_numpy()"
   ]
  },
  {
   "cell_type": "code",
   "execution_count": 140,
   "id": "dc6da12b",
   "metadata": {},
   "outputs": [
    {
     "name": "stdout",
     "output_type": "stream",
     "text": [
      "[array([ 66,  67,  65,  66,  66,  65,  62,  59,  64,  66,  65,  66,  64,\n",
      "         61,  63,  58,  58,  61,  60,  59,  65,  63,  57,  61,  55,  50,\n",
      "         56,  47,  64,  66,  66,  63,  60,  65,  61,  64,  66,  65,  66,\n",
      "         65,  63,  63,  62,  61,  57,  61,  56,  59,  59,  62,  57,  44,\n",
      "         39,  40,  37,  44,  63,  60,  63,  62,  57,  55,  61,  63,  65,\n",
      "         62,  66,  65,  61,  78,  68,  66,  58,  58,  58,  59,  59,  62,\n",
      "         64,  63,  56,  44,  43,  37,  62,  64,  61,  60,  61,  60,  61,\n",
      "         63,  66,  66,  67, 103,  41, 110, 128,  71,  47,  59,  57,  57,\n",
      "         60,  65,  61,  63,  58,  40,  30,  28,  61,  66,  63,  64,  60,\n",
      "         60,  63,  61,  65,  66, 113,  35, 165, 174, 173, 168,  81,  48,\n",
      "         58,  60,  58,  56,  58,  60,  61,  47,  25,  24,  62,  65,  60,\n",
      "         61,  63,  61,  64,  64,  65, 110,  39, 174, 171, 176, 175, 179,\n",
      "        167,  75,  47,  53,  57,  59,  55,  57,  56,  46,  32,  30,  63,\n",
      "         64,  63,  63,  61,  62,  62,  64,  99,  48, 177, 173, 173, 162,\n",
      "        130, 179, 177, 165,  68,  50,  62,  54,  56,  56,  57,  56,  54,\n",
      "         53,  63,  63,  66,  59,  60,  60,  60,  86,  59, 174, 174, 174,\n",
      "        157,  44,  68, 136, 177, 177, 165,  61,  47,  55,  53,  54,  58,\n",
      "         53,  54,  53,  66,  65,  63,  60,  60,  59,  70,  70, 174, 175,\n",
      "        175, 150,  46,  70,  70,  66, 143, 173, 175, 162,  57,  37,  39,\n",
      "         46,  47,  41,  37,  37,  63,  63,  65,  65,  65,  60,  84, 175,\n",
      "        173, 174, 137,  50,  69,  70,  69,  68,  67, 148, 173, 175, 152,\n",
      "         54,  44,  39,  28,  32,  35,  28,  68,  76,  81,  76,  57, 110,\n",
      "        173, 175, 173, 123,  56,  68,  68,  71,  69,  70,  70,  66, 148,\n",
      "        176, 176, 151,  54,  35,  34,  35,  28,  23,  63,  24,  27,  64,\n",
      "        123, 169, 172, 172, 103,  62,  69,  67,  68,  68,  67,  66,  67,\n",
      "         65,  69, 151, 173, 172, 142,  51,  39,  30,  22,  24,  59,  26,\n",
      "         67, 114, 165, 170, 173,  79,  65,  62,  64,  66,  66,  63,  63,\n",
      "         65,  66,  65,  63,  72, 149, 169, 172, 131,  41,  31,  32,  33,\n",
      "         60,  29,  33, 166, 173, 172,  74,  67,  66,  65,  66,  63,  61,\n",
      "         61,  63,  61,  61,  61,  62,  60,  71, 138, 153, 159,  92,  41,\n",
      "         52,  50,  58,  31,  31, 136, 173, 171, 131,  41,  67,  65,  62,\n",
      "         59,  63,  61,  59,  61,  60,  62,  61,  60,  36, 131, 155, 157,\n",
      "        108,  40,  54,  54,  57,  32,  34,  52, 145, 161, 167, 125,  30,\n",
      "         63,  58,  60,  61,  60,  62,  62,  57,  61,  58,  33, 142, 154,\n",
      "        151, 160,  37,  55,  57,  50,  56,  38,  23,  30,  52, 147, 157,\n",
      "        158, 112,  30,  61,  59,  59,  61,  62,  62,  61,  64,  29, 152,\n",
      "        157, 154, 157,  39,  50,  52,  51,  52,  53,  40,  26,  24,  35,\n",
      "         53, 153, 153, 157, 110,  26,  59,  61,  60,  60,  60,  62,  27,\n",
      "        163, 156, 157, 152,  26,  44,  52,  51,  55,  49,  48,  41,  27,\n",
      "         22,  21,  49,  57, 154, 154, 156, 103,  32,  58,  57,  60,  58,\n",
      "         36, 161, 154, 152, 144,  19,  49,  45,  56,  54,  56,  50,  50,\n",
      "         40,  26,  23,  22,  44,  51,  64, 155, 154, 158,  97,  33,  54,\n",
      "         55,  50, 158, 156, 152, 135,  20,  40,  60,  43,  56,  55,  55,\n",
      "         46,  47,  42,  26,  24,  20,  45,  56,  52,  66, 151, 153, 156,\n",
      "         90,  34,  65, 157, 156, 153, 123,  18,  28,  46,  64,  43,  58,\n",
      "         56,  52,  46,  51,  42,  27,  22,  21,  42,  55,  58,  50,  73,\n",
      "        148, 153, 154, 118, 152, 153, 153, 105,  21,  27,  30,  53,  91,\n",
      "         41,  52,  55,  52,  43,  48,  42,  28,  22,  20,  42,  54,  58,\n",
      "         54,  32,  80, 151, 151, 151, 154, 153,  88,  22,  21,  29,  29,\n",
      "         69,  98,  42,  54,  51,  49,  45,  45,  43,  28,  23,  21,  42,\n",
      "         55,  57,  53,  28,  33,  85, 145, 142, 157,  67,  33,  27,  21,\n",
      "         28,  30,  76, 120,  43,  48,  52,  50,  43,  45,  44,  29,  24,\n",
      "         22,  43,  54,  58,  52,  27,  30,  29,  55,  79,  18,  35,  50,\n",
      "         26,  21,  29,  30,  78, 104,  44,  51,  52,  49,  42,  45,  44,\n",
      "         30,  24,  21,  42,  54,  57,  51,  28,  30,  38,  29,  26,  27,\n",
      "         46,  51,  26,  20,  30,  32,  69,  85,  43,  52,  52,  52,  39,\n",
      "         46,  45,  31,  24,  23,  41,  52,  56,  51,  27,  30,  39,  35,\n",
      "         32,  32,  44,  47,  24,  22,  31,  32, 125, 137,  43,  54,  52,\n",
      "         50,  44,  46,  47,  31,  26,  25,  40,  52,  57,  50,  27,  31,\n",
      "         41,  37,  34,  34,  46,  47,  25,  22,  33,  32,  71,  87,  47,\n",
      "         52,  48,  52,  42])\n",
      " array([ 58,  61,  60,  65,  75,  78,  81,  85,  83,  93,  97,  90, 109,\n",
      "        102, 102,  99,  99,  97, 104, 111, 108, 106, 106,  95,  90, 120,\n",
      "        102,  62,  54,  59,  58,  57,  59,  62,  67,  67,  71,  83,  83,\n",
      "         78, 102, 103,  97,  85,  79,  88, 101, 106,  97,  94,  94,  94,\n",
      "         92,  86,  78,  55,  51,  54,  56,  56,  56,  62,  69,  74,  77,\n",
      "         84,  79,  86,  98,  92,  90,  78,  93, 108, 115, 116,  98,  99,\n",
      "        106, 106, 111, 117, 109,  81,  56,  54,  56,  62,  63,  67,  74,\n",
      "         78,  80,  87,  81,  80,  82,  95,  91,  82,  91, 103, 106, 109,\n",
      "         95,  95, 100, 104, 107,  95,  79,  69,  55,  49,  51,  57,  54,\n",
      "         57,  61,  60,  68,  79,  67,  56,  95, 126, 116,  98,  70,  65,\n",
      "         86,  95,  83,  82,  88,  98, 101,  85,  75,  68,  46,  46,  46,\n",
      "         47,  48,  52,  56,  58,  67,  72,  57, 101, 142, 134, 125, 114,\n",
      "         85,  60,  89, 103,  93,  96, 108, 108,  99,  97,  96,  77,  45,\n",
      "         51,  52,  54,  60,  65,  68,  78,  75,  63,  95, 146, 139, 109,\n",
      "        100, 123, 109,  95,  94,  99, 107, 118, 127, 113,  96,  99, 100,\n",
      "         77,  51,  53,  51,  51,  59,  64,  67,  67,  61,  97, 148, 145,\n",
      "         96,  67, 101, 101, 123, 104,  87,  69,  82, 103, 119,  98,  74,\n",
      "         87,  93,  73,  50,  48,  48,  49,  49,  53,  52,  53,  87, 142,\n",
      "        145, 102,  63,  79,  81,  97,  96, 111,  99,  79,  65,  85,  99,\n",
      "         82,  75,  83,  83,  69,  48,  44,  48,  49,  55,  56,  50,  83,\n",
      "        136, 146, 104,  70,  79,  76,  78,  74,  93,  94, 105,  91,  78,\n",
      "         79,  95, 103,  98,  99,  99,  75,  49,  46,  48,  51,  54,  54,\n",
      "         84, 129, 146, 105,  66,  79,  77,  77,  75,  75,  77,  87,  91,\n",
      "         95,  95,  85,  75,  89,  95,  86,  85,  64,  47,  45,  44,  44,\n",
      "         48,  93, 123, 147, 104,  68,  78,  78,  78,  76,  76,  74,  74,\n",
      "         75,  84,  87, 105,  99,  77,  72,  76,  76,  75,  64,  50,  53,\n",
      "         50,  48,  83, 133, 146, 106,  64,  75,  80,  77,  78,  76,  73,\n",
      "         76,  74,  70,  74,  80,  95, 107,  91,  71,  65,  71,  91,  76,\n",
      "         53,  55,  50,  73, 122, 140, 105,  61,  75,  76,  77,  77,  79,\n",
      "         75,  73,  73,  72,  72,  71,  70,  86,  96,  97,  84,  68,  89,\n",
      "        106,  71,  48,  47,  46,  89, 133, 132,  74,  64,  73,  75,  78,\n",
      "         77,  79,  75,  76,  73,  73,  73,  72,  64,  64,  99, 101,  96,\n",
      "         62,  75,  74,  60,  45,  46,  51,  80, 123, 133,  95,  73,  63,\n",
      "         73,  79,  76,  77,  77,  77,  75,  75,  71,  72,  61,  75, 120,\n",
      "        104,  87,  66,  82,  74,  58,  46,  49,  53,  63,  99, 125, 129,\n",
      "         96,  69,  64,  74,  75,  75,  78,  75,  73,  73,  70,  69,  73,\n",
      "        124, 125,  96,  73,  90,  95,  80,  59,  43,  43,  45,  51,  63,\n",
      "        100, 122, 122,  90,  71,  65,  75,  73,  76,  74,  73,  73,  67,\n",
      "         70, 112, 123, 107,  75,  80,  95,  83,  73,  54,  40,  41,  45,\n",
      "         43,  47,  62,  92, 120, 120,  96,  75,  61,  76,  73,  72,  72,\n",
      "         66,  67, 110, 117, 108,  74,  75,  87,  76,  70,  64,  54,  50,\n",
      "         51,  55,  54,  51,  58,  68,  89, 121, 121,  93,  68,  59,  74,\n",
      "         69,  70,  63, 112, 114, 106,  72,  81,  94,  91,  76,  62,  74,\n",
      "         60,  47,  50,  51,  52,  52,  51,  56,  68,  90, 119, 113,  91,\n",
      "         70,  55,  67,  61, 109, 109, 100,  71,  92, 104,  94,  87,  77,\n",
      "         77,  73,  54,  41,  42,  43,  43,  44,  45,  44,  51,  64,  89,\n",
      "        116, 110,  86,  62,  63, 105, 108,  96,  64,  79, 104,  89,  77,\n",
      "         78,  70,  64,  62,  51,  48,  48,  51,  55,  58,  60,  61,  63,\n",
      "         68,  75,  86, 111, 107,  88, 101, 107,  95,  67,  76,  92,  92,\n",
      "         84,  81,  75,  67,  63,  62,  49,  51,  51,  51,  55,  57,  61,\n",
      "         64,  68,  70,  67,  74,  87, 107, 102, 108,  94,  69,  82,  97,\n",
      "        101, 100,  96,  89,  81,  80,  84,  77,  52,  45,  43,  45,  47,\n",
      "         48,  50,  54,  59,  65,  65,  66,  69,  78,  92,  84,  58,  62,\n",
      "         87,  86,  89,  91,  84,  76,  77,  81,  81,  73,  51,  45,  48,\n",
      "         50,  50,  52,  55,  58,  63,  66,  66,  72,  65,  45,  53,  45,\n",
      "         28,  74,  81,  71,  73,  74,  68,  67,  72,  69,  61,  59,  47,\n",
      "         49,  57,  56,  56,  64,  67,  68,  71,  68,  71,  84,  61,  31,\n",
      "         25,  19,  31,  93, 101,  91,  89,  92,  87,  84,  79,  67,  65,\n",
      "         70,  53,  46,  49,  50,  54,  64,  64,  62,  65,  65,  71,  78,\n",
      "         62,  34,  27,  22,  39,  98, 116, 112, 113, 114, 107,  98,  84,\n",
      "         72,  79,  83,  58])\n",
      " array([100, 102, 100, 101, 102, 100, 105, 104, 104, 105, 105, 106, 107,\n",
      "        108, 108, 109, 108, 107, 107, 108, 109, 110, 110, 111, 111, 111,\n",
      "        111, 111, 100, 100, 102, 101, 101, 103, 106, 103, 106, 104, 103,\n",
      "        102, 103, 105, 105, 107, 106, 106, 108, 109, 109, 109, 110, 110,\n",
      "        109, 109, 110, 111, 102, 101, 101, 102, 104, 104, 104, 102,  99,\n",
      "         91,  86,  90, 102, 109, 106, 104, 107, 107, 107, 109, 107, 109,\n",
      "        108, 109, 110, 112, 111, 110, 102, 101, 100, 100, 100, 103,  98,\n",
      "         86,  69,  51,  45,  48,  51,  86, 108, 104, 104, 106, 107, 108,\n",
      "        106, 109, 110, 112, 111, 111, 110, 110, 100, 101, 100, 102, 101,\n",
      "        101,  89,  75,  59,  49,  59,  68,  66,  56,  75, 105, 105, 106,\n",
      "        108, 106, 108, 109, 109, 109, 110, 112, 110, 110, 102, 102, 100,\n",
      "        103, 103,  93,  80,  66,  51,  54,  64,  69,  70,  68,  54,  64,\n",
      "        102, 107, 106, 108, 106, 107, 108, 109, 110, 111, 110, 110, 103,\n",
      "        102, 100, 100, 104,  87,  71,  54,  50,  61,  66,  60,  62,  70,\n",
      "         70,  58,  60,  94, 108, 106, 109, 108, 105, 107, 107, 108, 109,\n",
      "        109, 101, 102, 100,  98,  96,  81,  60,  48,  56,  65,  62,  53,\n",
      "         48,  52,  67,  69,  67,  54,  85, 105, 105, 109, 105, 107, 107,\n",
      "        108, 108, 108,  99, 102, 100,  89,  73,  67,  51,  50,  63,  64,\n",
      "         57,  55,  63,  55,  49,  61,  66,  67,  55,  76, 105, 105, 106,\n",
      "        107, 108, 108, 108, 108,  97, 100,  99,  88,  74,  58,  45,  60,\n",
      "         67,  60,  54,  57,  62,  63,  60,  45,  58,  68,  66,  58,  60,\n",
      "        102, 107, 106, 108, 106, 108, 108,  90,  98,  95,  82,  66,  48,\n",
      "         55,  67,  64,  53,  55,  61,  63,  63,  62,  61,  48,  53,  66,\n",
      "         67,  61,  55,  95, 107, 104, 108, 109, 108,  76,  91,  86,  70,\n",
      "         55,  49,  63,  67,  58,  51,  57,  61,  61,  62,  62,  60,  61,\n",
      "         51,  48,  65,  69,  67,  54,  86, 110, 105, 107, 108,  82,  90,\n",
      "         73,  58,  46,  57,  66,  61,  53,  54,  61,  61,  62,  61,  60,\n",
      "         62,  61,  61,  55,  46,  61,  67,  68,  57,  96, 105, 104, 107,\n",
      "         90,  80,  67,  49,  50,  63,  63,  55,  54,  60,  62,  63,  63,\n",
      "         61,  60,  60,  62,  63,  62,  57,  45,  61,  68,  57,  84, 105,\n",
      "        103, 103,  89,  70,  54,  44,  58,  67,  55,  53,  59,  63,  67,\n",
      "         68,  67,  65,  64,  62,  62,  62,  63,  55,  50,  61,  68,  59,\n",
      "         83, 101, 103, 106,  92,  56,  36,  38,  61,  67,  53,  46,  61,\n",
      "         63,  63,  66,  68,  67,  66,  64,  63,  62,  59,  53,  55,  65,\n",
      "         64,  65,  91, 101, 102, 104,  94,  65,  29,  22,  55,  67,  65,\n",
      "         51,  46,  58,  60,  62,  64,  65,  65,  64,  62,  61,  52,  52,\n",
      "         62,  65,  60,  79,  98,  99, 100, 103,  95,  92,  72,  29,  26,\n",
      "         60,  70,  66,  56,  46,  56,  64,  60,  62,  63,  62,  60,  55,\n",
      "         50,  58,  64,  59,  70,  94,  99,  99, 100, 101,  97,  92,  91,\n",
      "         73,  29,  22,  56,  70,  69,  61,  45,  52,  62,  60,  59,  60,\n",
      "         59,  50,  55,  63,  60,  65,  86,  95,  97,  97,  97,  98,  95,\n",
      "         91,  92,  91,  72,  25,  22,  43,  66,  67,  63,  48,  45,  61,\n",
      "         63,  61,  53,  52,  60,  59,  60,  78,  95,  93,  96,  94,  95,\n",
      "         96,  91,  90,  87,  90,  91,  69,  25,  21,  37,  65,  65,  64,\n",
      "         51,  46,  59,  55,  49,  56,  60,  57,  73,  90,  92,  90,  92,\n",
      "         93,  93,  93,  89,  88,  87,  87,  89,  89,  73,  22,  18,  33,\n",
      "         56,  66,  64,  57,  44,  44,  55,  63,  59,  67,  83,  89,  89,\n",
      "         86,  85,  83,  82,  82,  86,  84,  84,  79,  89,  87, 109,  97,\n",
      "         37,  17,  27,  54,  66,  65,  61,  55,  56,  58,  61,  73,  80,\n",
      "         81,  83,  83,  83,  83,  86,  87,  81,  79,  76,  77,  78,  80,\n",
      "        103, 123,  73,  31,  19,  23,  45,  64,  64,  60,  59,  65,  76,\n",
      "         82,  83,  83,  82,  82,  84,  84,  84,  83,  70,  73,  71,  69,\n",
      "         70,  77,  95, 125,  90,  43,  22,  18,  21,  40,  57,  61,  65,\n",
      "         77,  80,  79,  79,  79,  81,  82,  81,  81,  80,  79,  75,  77,\n",
      "         77,  77,  78,  81,  87, 121,  97,  53,  28,  25,  27,  31,  45,\n",
      "         66,  75,  78,  78,  78,  78,  77,  78,  78,  76,  76,  76,  75,\n",
      "         75,  77,  79,  79,  78,  81,  85, 118, 105,  60,  35,  37,  58,\n",
      "         72,  74,  73,  74,  75,  75,  74,  73,  72,  72,  70,  72,  69,\n",
      "         67,  63,  72,  73,  75,  76,  77,  76,  80, 111, 111,  69,  41,\n",
      "         37,  60,  74,  71,  70,  69,  66,  63,  61,  60,  58,  54,  48,\n",
      "         47,  42,  39,  37])\n",
      " ...\n",
      " array([ 50,  49,  49,  48,  50,  48,  34,  25,  28,  28,  26,  28,  47,\n",
      "         77,  78,  81,  69,  30,  26,  27,  27,  26,  26,  25,  25,  25,\n",
      "         25,  25,  86,  87,  86,  81,  82,  76,  42,  31,  28,  23,  19,\n",
      "         13,  71,  70,  66,  61,  46,  27,  20,  20,  19,  21,  21,  20,\n",
      "         21,  21,  22,  21,  98,  94,  93,  88,  85,  91,  43,  34,  33,\n",
      "         27,  42, 232, 251, 174,  75,  54,  54,  54, 102, 109,  73,  62,\n",
      "         62,  62,  62,  63,  65,  66, 101, 106,  99,  97,  97,  95,  46,\n",
      "         36,  82, 254, 244,  73,  57,  55,  54,  54,  53,  53,  50,  51,\n",
      "         57, 114,  77,  71,  73,  73,  74,  74, 109, 112, 110, 110, 102,\n",
      "         96,  37, 238, 253,  94,  58,  57,  55,  56,  55,  54,  52,  52,\n",
      "         54,  54,  54,  53, 104,  84,  81,  80,  82,  83, 113, 119, 110,\n",
      "        106, 103,  99, 254, 241,  66,  57,  57,  60,  57,  57,  79, 112,\n",
      "        107,  80,  56,  55,  56,  56,  54, 106,  90,  88,  89,  90, 119,\n",
      "        123, 118, 110, 117, 251, 232,  60,  60,  59,  59,  75, 200, 218,\n",
      "        215, 213, 213, 215, 213, 141,  57,  59,  57,  55, 106,  95,  98,\n",
      "         99, 123, 123, 119, 121, 254, 236,  73,  58,  60,  57, 169, 223,\n",
      "        221, 219, 216, 214, 210, 212, 210, 211, 175,  63,  56,  57,  78,\n",
      "        112, 111, 111, 124, 122, 115, 232, 251,  83,  60,  57,  57, 193,\n",
      "        223, 222, 223, 219, 218, 219, 212, 210, 211, 212, 212, 148,  58,\n",
      "         59,  57, 123, 122, 122, 115, 115, 132, 254, 154,  64,  56,  56,\n",
      "        191, 217, 222, 222, 223, 220, 220, 213, 211, 214, 213, 209, 213,\n",
      "        210,  79,  59,  55, 130, 129, 131, 125, 120, 237, 242,  63,  59,\n",
      "         59, 134, 222, 219, 225, 221, 223, 220, 217, 216, 210, 212, 214,\n",
      "        209, 211, 213, 122,  61,  58, 108, 137, 137, 121, 125, 253, 119,\n",
      "         64,  58,  61, 215, 222, 225, 224, 220, 219,  97,  74,  81,  95,\n",
      "        113, 127, 148, 177, 211, 166,  61,  59, 100, 140, 149, 122, 131,\n",
      "        221,  71,  59,  55, 122, 227, 221, 225, 180,  95,  76,  53,  41,\n",
      "         41,  41,  42,  44,  44, 139, 210, 178,  62,  58, 104, 152, 151,\n",
      "        120, 118, 109,  61,  60,  55, 179, 227, 222, 214,  74, 118,  65,\n",
      "         47,  40,  42,  42,  40,  42,  43, 170, 213, 173,  62,  59, 114,\n",
      "        155, 156, 115, 131, 117,  64,  61,  58, 200, 225, 223, 115,  61,\n",
      "         64,  65,  55,  52,  48,  44,  65,  45,  49, 194, 210, 137,  63,\n",
      "         59, 141, 157, 159, 119, 122, 116,  61,  58,  59, 204, 222, 222,\n",
      "        188,  95,  67, 145, 148, 136, 128,  99, 113,  91, 171, 209, 214,\n",
      "         95,  61,  62, 158, 163, 162, 116, 107, 115,  62,  59,  56, 194,\n",
      "        151, 126, 131,  95, 114, 140, 153, 161, 166, 142,  86, 165, 167,\n",
      "        177, 196,  65,  58,  85, 170, 171, 170, 115,  97, 109,  62,  60,\n",
      "         58, 157, 218, 224, 220, 221, 221, 215, 214, 216, 214, 212, 217,\n",
      "        210, 205, 212, 113,  61,  56, 137, 172, 174, 176, 110,  96,  92,\n",
      "         64,  59,  61,  86, 221, 225, 223, 224, 218, 219, 213, 213, 215,\n",
      "        213, 214, 212, 206, 172,  63,  58,  80, 169, 175, 173, 179, 114,\n",
      "        106,  79,  79,  58,  64,  60, 165, 218, 219, 223, 220, 217, 213,\n",
      "        214, 212, 213, 214, 214, 195,  67,  60,  58, 159, 188, 191, 192,\n",
      "        193, 110, 115,  83,  99,  59,  60,  60,  58, 185, 216, 219, 220,\n",
      "        218, 216, 215, 212, 210, 211, 189,  69,  60,  57, 121, 190, 197,\n",
      "        198, 196, 195, 115, 115, 111,  75,  79,  59,  62,  61,  57, 157,\n",
      "        216, 215, 219, 218, 216, 210, 219, 101,  61,  62,  59, 100, 191,\n",
      "        194, 199, 200, 199, 201, 117, 116, 109,  99,  83,  64,  59,  60,\n",
      "         61,  59,  57,  90, 152, 161, 123,  68,  64,  61,  60,  59, 103,\n",
      "        188, 196, 200, 204, 204, 203, 199, 112, 114, 109, 110,  88,  87,\n",
      "         59,  59,  61,  59,  55,  56,  55,  55,  55,  59,  60,  61,  58,\n",
      "        134, 186, 194, 201, 201, 206, 208, 202, 202, 113, 115, 104, 110,\n",
      "         94,  84,  76,  80,  58,  57,  56,  55,  54,  56,  57,  58,  55,\n",
      "         86, 170, 188, 193, 198, 203, 205, 208, 210, 207, 204, 111, 117,\n",
      "        107, 109,  93,  96,  90,  56,  66,  90,  61,  53,  51,  54,  72,\n",
      "        121, 152, 175, 181, 195, 198, 200, 207, 206, 210, 212, 208, 205,\n",
      "        108, 122, 126, 109,  92,  97,  87,  54,  61,  41,  34,  32,  58,\n",
      "         74, 132, 152, 160, 176, 186, 191, 198, 202, 204, 209, 212, 211,\n",
      "        209, 205, 125, 126, 126, 106,  86,  97,  84,  63,  60,  56,  54,\n",
      "         57,  71,  86, 139, 162, 165, 180, 188, 198, 203, 207, 208, 209,\n",
      "        218, 214, 209, 207])\n",
      " array([111, 114, 113, 110, 111, 115, 112, 110, 117, 121, 120, 113,  75,\n",
      "         80,  73, 109, 123, 125, 127, 124, 127, 128, 127, 129, 153, 128,\n",
      "        127, 125, 119, 114, 114, 112, 117, 109, 115, 118, 117, 115, 125,\n",
      "        157, 113, 146, 140, 236, 210, 142, 137, 129, 132, 133, 127, 135,\n",
      "        132, 133, 135, 136, 120, 118, 114, 117, 115, 114, 119, 120, 129,\n",
      "        166, 248, 253, 233, 186, 143, 121, 135, 195, 237, 176, 132, 127,\n",
      "        129, 132, 132, 134, 134, 134, 115, 118, 118, 116, 120, 128, 129,\n",
      "        177, 251, 246, 152,  61,  56,  59,  59,  60,  62,  60,  59,  76,\n",
      "        156, 147, 129, 132, 133, 133, 136, 138, 126, 126, 123, 119, 110,\n",
      "        114, 223, 251, 158,  63,  56,  60,  61,  60,  60,  59,  59,  61,\n",
      "         62,  59,  60,  95, 130, 130, 135, 138, 141, 139, 124, 123, 118,\n",
      "        108, 117, 247, 252,  97,  60,  60,  62,  63,  59,  69,  79,  77,\n",
      "         69,  63,  62,  60,  60,  60,  73, 134, 132, 131, 132, 133, 127,\n",
      "        130, 125, 132, 245, 253,  80,  63,  59,  62,  66, 165, 237, 248,\n",
      "        247, 249, 241, 222, 127,  59,  60,  59,  60,  84, 137, 134, 135,\n",
      "        137, 136, 133, 117, 212, 254,  81,  63,  61,  64, 122, 248, 247,\n",
      "        249, 250, 247, 249, 249, 248, 247, 180,  64,  61,  60,  58, 139,\n",
      "        141, 142, 141, 135, 133, 132, 253, 130,  63,  63,  62, 152, 251,\n",
      "        250, 248, 246, 245, 246, 248, 250, 251, 249, 248, 180,  66,  70,\n",
      "         60,  94, 141, 138, 139, 141, 138, 219, 221,  64,  67,  66, 127,\n",
      "        250, 249, 250, 250, 249, 248, 249, 249, 248, 249, 249, 250, 247,\n",
      "        105,  63,  61,  67, 140, 147, 147, 126, 134, 248,  99,  65,  64,\n",
      "         77, 242, 249, 247, 249, 177, 212, 242, 244, 227, 136, 247, 239,\n",
      "        232, 238, 193,  62,  60,  63, 105, 141, 141, 131, 160, 188,  66,\n",
      "         63,  63, 150, 226, 213, 226, 222, 194, 226, 236, 236, 231, 165,\n",
      "        234, 195, 218, 248, 234,  69,  68,  65, 130, 144, 140, 123, 166,\n",
      "        137,  64,  61,  69, 231, 247, 237, 152, 113, 138, 231, 247, 250,\n",
      "        201, 170, 167, 244, 200, 149, 245,  76,  64,  68, 127, 139, 139,\n",
      "        131, 167, 112,  62,  64,  77, 248, 217, 215, 244, 193, 187, 169,\n",
      "        215, 196, 171, 200, 208, 242, 219, 169, 241,  71,  63,  60, 133,\n",
      "        146, 146, 129, 147,  84,  64,  67,  93, 248, 181, 250, 242, 223,\n",
      "        246, 148, 224,  21,  99, 207, 159,  50, 247, 197, 224,  66,  64,\n",
      "         69, 136, 137, 138, 137, 136,  76,  65,  67,  89, 246, 214, 252,\n",
      "        191, 240, 237, 199, 250, 117, 208, 238, 251, 249, 251, 175, 177,\n",
      "         66,  66,  77, 144, 148, 146, 131, 129,  87,  65,  66,  79, 250,\n",
      "        171, 250, 253, 250, 187, 248, 251, 206, 251, 158, 231, 230, 146,\n",
      "        242,  90,  66,  67, 107, 142, 142, 142, 131, 125, 114,  62,  66,\n",
      "         69, 216, 234, 144, 153, 128, 196, 177, 159, 163, 169, 174, 171,\n",
      "        198, 219, 186,  67,  66,  65, 144, 143, 146, 147, 137, 132, 118,\n",
      "         65,  66,  67, 112, 234, 231, 232, 241, 239, 248, 248, 249, 245,\n",
      "        248, 248, 245, 228,  73,  66,  66,  80, 137, 142, 142, 143, 129,\n",
      "        129, 106,  84,  66,  65,  68, 159, 194, 194, 190, 188, 190, 187,\n",
      "        177, 156, 153, 131, 141,  73,  64,  66,  63, 107, 137, 148, 146,\n",
      "        151, 134, 134, 124,  78,  63,  65,  69, 101, 144, 163, 156, 150,\n",
      "        154, 167, 186, 200, 223, 194,  71,  66,  63,  65, 103, 146, 143,\n",
      "        129, 142, 142, 130, 125, 121, 101,  78,  63,  64,  65,  68,  79,\n",
      "        132, 152, 176, 211, 230, 191,  76,  68,  66,  65,  64, 114, 137,\n",
      "        141, 142, 141, 143, 143, 136, 136, 140, 139,  93,  68,  62,  65,\n",
      "         63,  64,  62,  64,  57,  81,  68,  75,  79,  80,  72,  63, 137,\n",
      "        136, 142, 141, 144, 147, 136, 136, 136, 139, 141, 139, 136,  90,\n",
      "         88,  60,  68,  69,  68,  66,  68,  69,  66,  67,  69,  65,  72,\n",
      "        135, 147, 149, 144, 148, 143, 145, 148, 135, 139, 140, 141, 140,\n",
      "        140, 136, 124, 136,  80,  59,  63,  66,  65,  66,  64,  58,  73,\n",
      "        145, 126, 132, 134, 126, 137, 141, 139, 141, 137, 135, 142, 139,\n",
      "        143, 141, 138, 144, 136, 124, 137, 143, 140, 134, 122, 115, 120,\n",
      "        145, 140, 138, 135, 138, 141, 144, 140, 144, 149, 152, 152, 152,\n",
      "        123, 131, 130, 128, 136, 129, 129, 121, 135, 140, 139,  82,  44,\n",
      "         48,  84, 142, 142, 141, 134, 145, 141, 148, 144, 147, 148, 149,\n",
      "        148, 147, 133, 133, 134, 140, 135, 140, 135, 135, 124, 127, 133,\n",
      "         84,  59,  58,  91, 138, 136, 135, 134, 130, 138, 152, 140, 142,\n",
      "        142, 143, 138, 141])\n",
      " array([119, 124, 103, 121, 124, 101, 108, 104,  75,  76,  72, 114, 138,\n",
      "        141,  88,  52,  61,  63,  70,  74,  76,  80,  82,  84,  82, 104,\n",
      "        140, 153, 138, 130, 151, 149, 131, 142, 124, 110,  86,  76,  90,\n",
      "        170, 233, 200, 130,  91, 110, 108, 107, 111, 116, 119, 121, 121,\n",
      "        121, 121, 137, 163, 138, 132, 176, 130, 144, 156, 127, 132, 104,\n",
      "        152, 216, 183, 132, 109,  97,  93, 100, 112, 137, 147, 151, 153,\n",
      "        157, 153, 155, 128, 126, 117, 132, 142, 127, 112, 122, 118, 117,\n",
      "        176, 237, 156,  84,  70,  74,  74,  78,  77,  79,  78,  82,  96,\n",
      "        149, 187, 186, 167, 175, 133, 130, 138, 128, 135, 142, 130, 123,\n",
      "        131, 218, 207,  91,  65,  66,  69,  72,  60,  65,  66,  68,  67,\n",
      "         68,  77,  74, 110,  99,  76,  74,  90, 137, 118, 127, 128, 139,\n",
      "        133, 141, 234, 182,  84,  71,  62,  72,  82, 107, 122, 130, 119,\n",
      "        101,  79,  69,  73,  64,  65,  68,  41,  41,  94, 122, 132, 133,\n",
      "        136, 152, 162, 192, 181,  81,  82,  79,  75, 138, 182, 187, 179,\n",
      "        175, 180, 194, 188, 127,  78,  65,  69,  62,  63,  42,  81,  97,\n",
      "        135, 122, 114, 122, 140, 110,  70,  83,  88, 100, 169, 163, 184,\n",
      "        196, 182, 179, 184, 202, 211, 219, 159,  77,  65,  61,  65,  63,\n",
      "        107, 137, 132, 132, 138, 132, 196,  92,  76,  87,  83,  82, 117,\n",
      "        102, 193, 185, 189, 192, 199, 208, 206, 212, 190, 131,  72,  66,\n",
      "         63,  75, 123, 142, 111, 132, 146, 171, 167,  74,  67,  80, 130,\n",
      "         67,  63, 112, 151, 135, 137, 146, 174, 196, 202, 192, 182, 176,\n",
      "         93,  66,  67,  76, 114, 115, 134, 116, 157, 198,  95,  73,  62,\n",
      "        137, 129,  45,  55,  63,  60,  36,  34,  36,  45, 121, 177, 177,\n",
      "        180, 187, 147,  71,  67,  70, 118, 118, 147, 117, 141, 188,  85,\n",
      "         69,  65, 180, 125,  46,  40,  54,  58,  52,  34,  35,  33,  40,\n",
      "        130, 172, 184, 193, 171,  77,  67,  65,  90, 112, 113, 115, 150,\n",
      "        142,  73,  63,  98, 186, 192, 132,  49,  70,  70,  64, 129, 135,\n",
      "         52,  34,  67, 175, 187, 186, 182,  88,  64,  60, 107, 118, 131,\n",
      "        115, 133, 108,  67,  63, 130, 188, 194, 184, 122, 149, 157,  75,\n",
      "         76, 156,  99,  31,  49, 173, 186, 182, 188,  88,  63,  60,  83,\n",
      "        105, 121, 154, 132,  91,  69,  60, 145, 188, 183, 187, 209, 234,\n",
      "        227, 156,  78,  79,  86,  34,  52, 175, 187, 189, 184,  79,  63,\n",
      "         62, 131, 126, 121, 175, 121,  81,  71,  63, 156, 187, 182, 202,\n",
      "        234, 239, 219, 223, 140,  75,  66,  54,  60, 177, 192, 190, 161,\n",
      "         71,  61,  66, 146, 136, 139, 105, 107,  77,  75,  68, 130, 188,\n",
      "        203, 243, 238, 212, 215, 194, 187, 135,  75,  65,  84, 180, 184,\n",
      "        186, 122,  64,  61,  76, 139, 136, 117, 152, 115,  79,  69,  71,\n",
      "         90, 196, 222, 249, 228, 223, 195, 182, 180, 196, 107,  56,  69,\n",
      "        147, 179, 179,  76,  63,  59,  93, 126, 142, 148, 156, 128,  68,\n",
      "         66,  67,  79, 203, 238, 216, 228, 203, 180, 178, 187, 199, 104,\n",
      "         40,  56,  73, 145, 104,  69,  64,  62, 109, 143, 128, 141, 146,\n",
      "        139,  76,  63,  70,  77, 123, 231, 212, 200, 183, 182, 192, 195,\n",
      "        193,  92,  63,  57,  72,  77,  70,  71,  69, 175, 115, 120, 146,\n",
      "        137, 152, 149, 102,  60,  74,  77,  67, 147, 210, 180, 176, 191,\n",
      "        197, 196, 189, 143, 166, 148, 102,  66,  73,  73,  72,  76,  86,\n",
      "         84, 163, 121, 157, 169, 109,  64,  60,  74,  68,  65, 116, 176,\n",
      "        189, 197, 193, 190, 187, 189, 174, 104,  71,  71,  75,  74,  47,\n",
      "         60, 110, 115, 142, 129, 153, 161, 131,  90,  52,  62,  71,  69,\n",
      "         66,  90, 131, 158, 171, 167, 137, 111,  76,  68,  71,  76,  72,\n",
      "         53,  39,  64, 119, 125, 144, 124, 160, 152, 122, 105,  93,  59,\n",
      "         61,  70,  73,  75,  74,  72,  77,  76,  76,  74,  67,  74,  71,\n",
      "         67,  51,  39,  40,  58,  82, 104, 114,  99, 157, 138, 128, 150,\n",
      "        138, 115,  70,  55,  65,  68,  67,  70,  72,  77,  76,  72,  71,\n",
      "         63,  52,  47,  40,  39,  39,  82, 116, 134, 116, 120, 127, 147,\n",
      "        139, 138, 126, 146, 146,  97,  78,  78,  58,  57,  58,  63,  65,\n",
      "         63,  49,  34,  32,  42,  42,  45,  43,  67, 108,  99, 116,  94,\n",
      "        128, 153, 129, 125, 123, 151, 168, 145, 230, 211,  46,  34,  62,\n",
      "        171,  74,  63,  46,  34,  37,  46,  47,  48,  49,  74,  95, 114,\n",
      "        145, 124, 103, 123, 125, 102,  95, 109, 115,  98, 136, 110,  51,\n",
      "         48,  52,  72,  58,  54,  52,  51,  47,  43,  48,  43,  44,  41,\n",
      "         41, 108, 129, 134])                                            ]\n"
     ]
    }
   ],
   "source": [
    "# print(x)"
   ]
  },
  {
   "cell_type": "code",
   "execution_count": 130,
   "id": "b8e58db9",
   "metadata": {},
   "outputs": [
    {
     "name": "stdout",
     "output_type": "stream",
     "text": [
      "[[ 0.  0.  5. ...  0.  0.  0.]\n",
      " [ 0.  0.  0. ... 10.  0.  0.]\n",
      " [ 0.  0.  0. ... 16.  9.  0.]\n",
      " ...\n",
      " [ 0.  0.  1. ...  6.  0.  0.]\n",
      " [ 0.  0.  2. ... 12.  0.  0.]\n",
      " [ 0.  0. 10. ... 12.  1.  0.]]\n"
     ]
    }
   ],
   "source": [
    "# print(x)"
   ]
  },
  {
   "cell_type": "code",
   "execution_count": 196,
   "id": "cbfa4e21",
   "metadata": {},
   "outputs": [],
   "source": [
    "# y=merged_data['sign_type'].to_numpy()"
   ]
  },
  {
   "cell_type": "code",
   "execution_count": 236,
   "id": "9d316245",
   "metadata": {},
   "outputs": [],
   "source": [
    "# y= merged_data['sign_type_num'].to_numpy()"
   ]
  }
 ],
 "metadata": {
  "kernelspec": {
   "display_name": "Python 3 (ipykernel)",
   "language": "python",
   "name": "python3"
  },
  "language_info": {
   "codemirror_mode": {
    "name": "ipython",
    "version": 3
   },
   "file_extension": ".py",
   "mimetype": "text/x-python",
   "name": "python",
   "nbconvert_exporter": "python",
   "pygments_lexer": "ipython3",
   "version": "3.7.13"
  }
 },
 "nbformat": 4,
 "nbformat_minor": 5
}
